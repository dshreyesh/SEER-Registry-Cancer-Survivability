{
 "cells": [
  {
   "cell_type": "markdown",
   "metadata": {},
   "source": [
    "# Lung Cancer Survival Period Prediction: Classification"
   ]
  },
  {
   "cell_type": "markdown",
   "metadata": {},
   "source": [
    "Starting with importing the datset from a.csv file and replacing entries with codes representing missing values. We aslo drop any rows with missing values in either Diagnosis year (YEAR_DX) or Survival Time in Months (SRV_TIME_MON) as these values directly affect the target variable and hence, removed from model training."
   ]
  },
  {
   "cell_type": "code",
   "execution_count": 1,
   "metadata": {},
   "outputs": [
    {
     "name": "stderr",
     "output_type": "stream",
     "text": [
      "C:\\Users\\Admiral0295\\Anaconda3\\lib\\site-packages\\IPython\\core\\interactiveshell.py:3049: DtypeWarning: Columns (134,135,136,137,141) have mixed types. Specify dtype option on import or set low_memory=False.\n",
      "  interactivity=interactivity, compiler=compiler, result=result)\n"
     ]
    }
   ],
   "source": [
    "import pandas as pd\n",
    "\n",
    "lung_cancer=pd.read_csv('final_respiratory_cancer.csv',index_col=0)"
   ]
  },
  {
   "cell_type": "code",
   "execution_count": 2,
   "metadata": {},
   "outputs": [],
   "source": [
    "lung_cancer.replace(to_replace={'MAR_STAT':9,'RACE1V':99,'AGE_DX':999,'SEQ_NUM':99,\n",
    "                                  'Lateral':9,'GRADE':9,'DX_CONF':9,'CSEXTEN':999,\n",
    "                                  'CSLYMPHN':999,'DAJCCT':88,'DAJCCN':88,'DAJCCM':88,\n",
    "                                  'SURGSCOF':9,'SURGSITF':9,'NO_SURG':9,'AGE_1REC':99,\n",
    "                                  'RAC_RECA':9,'RAC_RECY':9,'HST_STGA':9,'INTPRIM':9,\n",
    "                                  'ERSTATUS':9,'PRSTATUS':9,'SRV_TIME_MON':9999,'SRV_TIME_MON_FLAG':9,\n",
    "                                  'HER2':9,'BRST_SUB':9,'MALIGCOUNT':99,'BENBORDCOUNT':99,\n",
    "                                  'RAD_SURG':9},value=pd.np.nan,inplace=True)"
   ]
  },
  {
   "cell_type": "code",
   "execution_count": 3,
   "metadata": {},
   "outputs": [],
   "source": [
    "lung_cancer.replace({'EOD10_PN':{95:pd.np.nan,96:pd.np.nan,97:pd.np.nan,98:pd.np.nan,99:pd.np.nan},\n",
    "                       'EOD10_NE':{95:pd.np.nan,96:pd.np.nan,97:pd.np.nan,98:pd.np.nan,99:pd.np.nan},\n",
    "                       'CSTUMSIZ':{990:0,991:10,992:20,993:30,994:40,995:50,996:pd.np.nan,997:pd.np.nan,998:pd.np.nan,\n",
    "                                   999:pd.np.nan,888:pd.np.nan},\n",
    "                       'DAJCCSTG':{88:pd.np.nan,90:pd.np.nan,99:pd.np.nan},\n",
    "                       'DSS1977S':{8:pd.np.nan,9:pd.np.nan},'SURGPRIF':{90:pd.np.nan,98:pd.np.nan,99:pd.np.nan},\n",
    "                       'ADJTM_6VALUE':{88:pd.np.nan,99:pd.np.nan},'ADJNM_6VALUE':{88:pd.np.nan,99:pd.np.nan},\n",
    "                       'ADJM_6VALUE':{88:pd.np.nan,99:pd.np.nan},'ADJAJCCSTG':{88:pd.np.nan,90:pd.np.nan,99:pd.np.nan}\n",
    "                       },inplace=True)"
   ]
  },
  {
   "cell_type": "markdown",
   "metadata": {},
   "source": [
    "We are looking for % Missing in each column of the dataset. Those columns with more than 20% missing, are measured across different timeframes or not related measurements to this type of cancer. Hence, they are removed."
   ]
  },
  {
   "cell_type": "code",
   "execution_count": 4,
   "metadata": {},
   "outputs": [],
   "source": [
    "lung_cancer.dropna(axis=0,how='any',subset=['YEAR_DX','SRV_TIME_MON'],inplace=True)\n",
    "\n",
    "columns=lung_cancer.isna().sum(axis=0)/len(lung_cancer)\n",
    "\n",
    "columns_list=list(columns[columns<0.2].index)\n",
    "\n",
    "lung_cancer=lung_cancer.filter(items=columns_list,axis=1)\n",
    "\n",
    "stats=lung_cancer.describe().loc['50%']\n",
    "catg=lung_cancer.mode()"
   ]
  },
  {
   "cell_type": "code",
   "execution_count": 5,
   "metadata": {},
   "outputs": [],
   "source": [
    "drop_cols=['MDXRECMP','YEAR_DX','CSVFIRST','CSVLATES','CSVCURRENT','ICCC3WHO',\n",
    "           'ICCC3XWHO','CODPUB','CODPUBKM','STAT_REC','IHSLINK','VSRTSADX','ODTHCLASS',\n",
    "           'CSTSEVAL','CSRGEVAL','CSMTEVAL','ST_CNTY','SRV_TIME_MON','SRV_TIME_MON_FLAG',\n",
    "           '1year_survival','5year_survival']\n",
    "catg_cols=['REG','MAR_STAT','RACE1V','SEX','PRIMSITE','LATERAL','BEHO2V', 'BEHO3V',\n",
    "           'DX_CONF','REPT_SRC','CSMETSDX','DAJCCT','DAJCCN','DAJCCM','DAJCCSTG','DSS1977S',\n",
    "           'SCSSM2KO','SURGPRIF','SURGSCOF','SURGSITF','NO_SURG','TYPE_FU','AGE_1REC','SITERWHO',\n",
    "           'ICDOTO9V','ICDOT10V','BEHTREND','HISTREC','HISTRECB','CS0204SCHEMA','RAC_RECA',\n",
    "           'RAC_RECY','ORIGRECB','HST_STGA','FIRSTPRM','SUMM2K','AYASITERWHO','LYMSUBRWHO',\n",
    "           'INTPRIM','CSSCHEMA','ANNARBOR','RADIATNR','RAD_SURG','CHEMO_RX_REC']\n",
    "num_cols=['AGE_DX','YR_BRTH','SEQ_NUM','EOD10_NE','CSEXTEN','CSLYMPHN','HISTO2V',\n",
    "          'HISTO3V','CS1SITE','CS25SITE','REC_NO','MALIGCOUNT','BENBORDCOUNT']"
   ]
  },
  {
   "cell_type": "markdown",
   "metadata": {},
   "source": [
    "Now, we are treating all the other columns for their missing values. For the categorical variables, the missing values are filled with the mode while the median is used for Quantitative Variables. The columns which directly affect the target variable or are irrelevant to this type of cancer from domain knowledge are removed.\n",
    "\n",
    "In addition, classes of survival months are created for prediction."
   ]
  },
  {
   "cell_type": "code",
   "execution_count": 6,
   "metadata": {},
   "outputs": [],
   "source": [
    "values=dict()\n",
    "for i in catg_cols:\n",
    "    values[i]=catg[i][0]\n",
    "for i in num_cols:\n",
    "    values[i]=stats[i]\n",
    "\n",
    "lung_cancer.fillna(value=values,inplace=True)\n",
    "\n",
    "lung_cancer['survival_classes']=lung_cancer.apply(lambda row: \n",
    "    '<=6months' if (row.SRV_TIME_MON<=6) \n",
    "    else ('0.5-2yrs'  if (row.SRV_TIME_MON<=24) else '>2yrs'),axis=1)"
   ]
  },
  {
   "cell_type": "markdown",
   "metadata": {},
   "source": [
    "Importing all the required packages"
   ]
  },
  {
   "cell_type": "code",
   "execution_count": 23,
   "metadata": {},
   "outputs": [],
   "source": [
    "from numpy.random import seed\n",
    "#from tensorflow import set_random_seed\n",
    "import numpy as np\n",
    "import tensorflow\n",
    "\n",
    "from sklearn.model_selection import train_test_split\n",
    "#from sklearn.naive_bayes import MultinomialNB\n",
    "#from sklearn.metrics import accuracy_score\n",
    "from sklearn.metrics import confusion_matrix\n",
    "from sklearn.metrics import classification_report\n",
    "from sklearn.utils import resample\n",
    "\n",
    "from sklearn.preprocessing import LabelEncoder\n",
    "from keras.utils import np_utils\n",
    "from keras.models import Sequential\n",
    "from keras.layers import Dense, Conv1D, Dropout, LSTM, Flatten\n",
    "from sklearn.utils import class_weight\n",
    "from sklearn.preprocessing import StandardScaler\n",
    "import matplotlib.pyplot as plt"
   ]
  },
  {
   "cell_type": "markdown",
   "metadata": {},
   "source": [
    "First, upsampling the dataset for the low_survival and mid_survival classes to the size of high survival class.\n",
    "\n",
    "Then, seperating the upsampled dataset into Predictors(data) set and Target Variable and getting dummy variables for all the categorical variables identified before. This inflates our dataset significantly."
   ]
  },
  {
   "cell_type": "code",
   "execution_count": 8,
   "metadata": {},
   "outputs": [],
   "source": [
    "data=lung_cancer[lung_cancer['YEAR_DX'].between(2004,2010)].drop(columns=drop_cols)\n",
    "low_survival=data[data['survival_classes']=='<=6months']\n",
    "mid_survival=data[data['survival_classes']=='0.5-2yrs']\n",
    "high_survival=data[data['survival_classes']=='>2yrs']\n",
    "\n",
    "mid_survival=resample(mid_survival,replace=True,n_samples=len(low_survival),random_state=21)\n",
    "high_survival=resample(high_survival,replace=True,n_samples=len(low_survival),random_state=21)"
   ]
  },
  {
   "cell_type": "code",
   "execution_count": 9,
   "metadata": {},
   "outputs": [],
   "source": [
    "data_upsampled=pd.concat([low_survival,mid_survival,high_survival],axis=0)\n",
    "    \n",
    "data=data_upsampled.drop(columns=['survival_classes'])\n",
    "target=data_upsampled['survival_classes']\n",
    "data=pd.get_dummies(data,prefix=catg_cols,columns=catg_cols,drop_first=False)\n",
    "\n",
    "train_data,test_data,train_target,test_target=train_test_split(data,target,test_size=0.2,random_state=101)"
   ]
  },
  {
   "cell_type": "markdown",
   "metadata": {},
   "source": [
    "The whole dataset is also split into training and test sets in the ratio of 80:20.\n",
    "\n",
    "Normalizing the training set using StandardScaler (z-score normalization). Normalization is required to help with faster and more accurate training of Neural Networks. Test set is also normalized using he same scaler used to normalize the training set.\n",
    "\n",
    "Encoding the different classes in the target set and then performing one hot encoding on them to get dummies of the target set. This is done for both training set and test set."
   ]
  },
  {
   "cell_type": "code",
   "execution_count": 10,
   "metadata": {},
   "outputs": [],
   "source": [
    "scaler=StandardScaler()\n",
    "train_data=pd.DataFrame(scaler.fit_transform(train_data),index=train_data.index,columns=train_data.columns)\n",
    "test_data=pd.DataFrame(scaler.transform(test_data),index=test_data.index,columns=test_data.columns)\n",
    "\n",
    "encoder = LabelEncoder()\n",
    "encoder.fit(train_target)\n",
    "encoded_train_target = encoder.transform(train_target)\n",
    "dummy_train_target = np_utils.to_categorical(encoded_train_target)\n",
    "\n",
    "encoded_test_target=encoder.transform(test_target)\n",
    "dummy_test_target = np_utils.to_categorical(encoded_test_target)"
   ]
  },
  {
   "cell_type": "code",
   "execution_count": 11,
   "metadata": {},
   "outputs": [
    {
     "name": "stdout",
     "output_type": "stream",
     "text": [
      "xtrain shape: (377318, 511)\n",
      "xtest shape: (94330, 511)\n",
      "ytrain shape: (377318, 3)\n",
      "xtrain shape: (94330, 3)\n"
     ]
    }
   ],
   "source": [
    "print(\"xtrain shape:\", train_data.shape)\n",
    "print(\"xtest shape:\", test_data.shape)\n",
    "print(\"ytrain shape:\", dummy_train_target.shape)\n",
    "print(\"xtrain shape:\", dummy_test_target.shape)"
   ]
  },
  {
   "cell_type": "markdown",
   "metadata": {},
   "source": [
    "## ANN Model "
   ]
  },
  {
   "cell_type": "code",
   "execution_count": 12,
   "metadata": {},
   "outputs": [],
   "source": [
    "seed(100)\n",
    "tensorflow.random.set_seed(100)"
   ]
  },
  {
   "cell_type": "markdown",
   "metadata": {},
   "source": [
    "Defining the structure of the ANN with 5 hidden layers with [512,256,128,64,32] neurons each and ReLU activation function on the hidden layers and softmax activation on the output layer. The output layer has three neuron in line with the number of classes for prediction. 20% dropout layer is used after first and second hidden layers and 10% dropout layer after the thrid and fourth hidden layer.\n",
    "\n",
    "Loss Function- Categorical Crossentropy\n",
    "\n",
    "Optimizer- ADAM\n",
    "\n",
    "Observed Metrics- Accuracy\n",
    "\n",
    "An initial fit of the model is developed over a large number of epochs to determine point of overfitting of the model."
   ]
  },
  {
   "cell_type": "code",
   "execution_count": 13,
   "metadata": {},
   "outputs": [],
   "source": [
    "model=Sequential()\n",
    "    \n",
    "model.add(Dense(512, input_dim=train_data.shape[1], activation='relu'))\n",
    "model.add(Dropout(0.2))\n",
    "model.add(Dense(256, activation='relu'))\n",
    "model.add(Dropout(0.2))\n",
    "model.add(Dense(128, activation='relu'))\n",
    "model.add(Dropout(0.1))\n",
    "model.add(Dense(64, activation='relu'))\n",
    "model.add(Dropout(0.1))\n",
    "model.add(Dense(32, activation='relu'))\n",
    "model.add(Dense(dummy_train_target.shape[1], activation='softmax'))\n",
    "\n",
    "model.compile(loss='categorical_crossentropy', optimizer='adam', metrics=['accuracy'])"
   ]
  },
  {
   "cell_type": "code",
   "execution_count": 43,
   "metadata": {},
   "outputs": [
    {
     "name": "stdout",
     "output_type": "stream",
     "text": [
      "Train on 377318 samples, validate on 94330 samples\n",
      "Epoch 1/150\n",
      "377318/377318 [==============================] - 40s 106us/step - loss: 0.8166 - accuracy: 0.6279 - val_loss: 0.7942 - val_accuracy: 0.6400\n",
      "Epoch 2/150\n",
      "377318/377318 [==============================] - 39s 104us/step - loss: 0.7961 - accuracy: 0.6389 - val_loss: 0.7880 - val_accuracy: 0.6412\n",
      "Epoch 3/150\n",
      "377318/377318 [==============================] - 40s 106us/step - loss: 0.7887 - accuracy: 0.6418 - val_loss: 0.7863 - val_accuracy: 0.6437\n",
      "Epoch 4/150\n",
      "377318/377318 [==============================] - 41s 108us/step - loss: 0.7831 - accuracy: 0.6439 - val_loss: 0.7852 - val_accuracy: 0.6460\n",
      "Epoch 5/150\n",
      "377318/377318 [==============================] - 41s 108us/step - loss: 0.7774 - accuracy: 0.6472 - val_loss: 0.7796 - val_accuracy: 0.6468\n",
      "Epoch 6/150\n",
      "377318/377318 [==============================] - 41s 108us/step - loss: 0.7719 - accuracy: 0.6497 - val_loss: 0.7755 - val_accuracy: 0.6486\n",
      "Epoch 7/150\n",
      "377318/377318 [==============================] - 43s 115us/step - loss: 0.7671 - accuracy: 0.6523 - val_loss: 0.7761 - val_accuracy: 0.6482\n",
      "Epoch 8/150\n",
      "377318/377318 [==============================] - 41s 109us/step - loss: 0.7616 - accuracy: 0.6551 - val_loss: 0.7749 - val_accuracy: 0.6513\n",
      "Epoch 9/150\n",
      "377318/377318 [==============================] - 42s 112us/step - loss: 0.7570 - accuracy: 0.6577 - val_loss: 0.7704 - val_accuracy: 0.6538\n",
      "Epoch 10/150\n",
      "377318/377318 [==============================] - 42s 110us/step - loss: 0.7518 - accuracy: 0.6604 - val_loss: 0.7674 - val_accuracy: 0.6539\n",
      "Epoch 11/150\n",
      "377318/377318 [==============================] - 43s 115us/step - loss: 0.7465 - accuracy: 0.6633 - val_loss: 0.7640 - val_accuracy: 0.6552\n",
      "Epoch 12/150\n",
      "377318/377318 [==============================] - 42s 110us/step - loss: 0.7419 - accuracy: 0.6653 - val_loss: 0.7622 - val_accuracy: 0.6588\n",
      "Epoch 13/150\n",
      "377318/377318 [==============================] - 42s 110us/step - loss: 0.7373 - accuracy: 0.6672 - val_loss: 0.7605 - val_accuracy: 0.6578\n",
      "Epoch 14/150\n",
      "377318/377318 [==============================] - 42s 112us/step - loss: 0.7320 - accuracy: 0.6706 - val_loss: 0.7576 - val_accuracy: 0.6595\n",
      "Epoch 15/150\n",
      "377318/377318 [==============================] - 43s 114us/step - loss: 0.7275 - accuracy: 0.6727 - val_loss: 0.7520 - val_accuracy: 0.6621\n",
      "Epoch 16/150\n",
      "377318/377318 [==============================] - 42s 110us/step - loss: 0.7223 - accuracy: 0.6750 - val_loss: 0.7511 - val_accuracy: 0.6633\n",
      "Epoch 17/150\n",
      "377318/377318 [==============================] - 43s 113us/step - loss: 0.7183 - accuracy: 0.6782 - val_loss: 0.7509 - val_accuracy: 0.6657\n",
      "Epoch 18/150\n",
      "377318/377318 [==============================] - 43s 114us/step - loss: 0.7141 - accuracy: 0.6800 - val_loss: 0.7457 - val_accuracy: 0.6673\n",
      "Epoch 19/150\n",
      "377318/377318 [==============================] - 42s 110us/step - loss: 0.7100 - accuracy: 0.6819 - val_loss: 0.7448 - val_accuracy: 0.6692\n",
      "Epoch 20/150\n",
      "377318/377318 [==============================] - 40s 105us/step - loss: 0.7067 - accuracy: 0.6839 - val_loss: 0.7437 - val_accuracy: 0.6675\n",
      "Epoch 21/150\n",
      "377318/377318 [==============================] - 42s 112us/step - loss: 0.7033 - accuracy: 0.6862 - val_loss: 0.7383 - val_accuracy: 0.6714\n",
      "Epoch 22/150\n",
      "377318/377318 [==============================] - 42s 112us/step - loss: 0.6986 - accuracy: 0.6880 - val_loss: 0.7374 - val_accuracy: 0.6711\n",
      "Epoch 23/150\n",
      "377318/377318 [==============================] - 40s 106us/step - loss: 0.6951 - accuracy: 0.6911 - val_loss: 0.7369 - val_accuracy: 0.6735\n",
      "Epoch 24/150\n",
      "377318/377318 [==============================] - 39s 102us/step - loss: 0.6910 - accuracy: 0.6925 - val_loss: 0.7341 - val_accuracy: 0.6732\n",
      "Epoch 25/150\n",
      "377318/377318 [==============================] - 39s 102us/step - loss: 0.6873 - accuracy: 0.6950 - val_loss: 0.7331 - val_accuracy: 0.6754\n",
      "Epoch 26/150\n",
      "377318/377318 [==============================] - 37s 99us/step - loss: 0.6845 - accuracy: 0.6961 - val_loss: 0.7291 - val_accuracy: 0.6787\n",
      "Epoch 27/150\n",
      "377318/377318 [==============================] - 40s 106us/step - loss: 0.6815 - accuracy: 0.6981 - val_loss: 0.7295 - val_accuracy: 0.6795\n",
      "Epoch 28/150\n",
      "377318/377318 [==============================] - 43s 113us/step - loss: 0.6781 - accuracy: 0.7009 - val_loss: 0.7270 - val_accuracy: 0.6798\n",
      "Epoch 29/150\n",
      "377318/377318 [==============================] - 43s 113us/step - loss: 0.6745 - accuracy: 0.7024 - val_loss: 0.7240 - val_accuracy: 0.6816\n",
      "Epoch 30/150\n",
      "377318/377318 [==============================] - 42s 111us/step - loss: 0.6729 - accuracy: 0.7027 - val_loss: 0.7277 - val_accuracy: 0.6795\n",
      "Epoch 31/150\n",
      "377318/377318 [==============================] - 42s 113us/step - loss: 0.6699 - accuracy: 0.7047 - val_loss: 0.7247 - val_accuracy: 0.6824\n",
      "Epoch 32/150\n",
      "377318/377318 [==============================] - 43s 114us/step - loss: 0.6669 - accuracy: 0.7064 - val_loss: 0.7207 - val_accuracy: 0.6859\n",
      "Epoch 33/150\n",
      "377318/377318 [==============================] - 43s 113us/step - loss: 0.6642 - accuracy: 0.7072 - val_loss: 0.7224 - val_accuracy: 0.6853\n",
      "Epoch 34/150\n",
      "377318/377318 [==============================] - 43s 114us/step - loss: 0.6612 - accuracy: 0.7093 - val_loss: 0.7185 - val_accuracy: 0.6854\n",
      "Epoch 35/150\n",
      "377318/377318 [==============================] - 42s 112us/step - loss: 0.6592 - accuracy: 0.7101 - val_loss: 0.7149 - val_accuracy: 0.6886\n",
      "Epoch 36/150\n",
      "377318/377318 [==============================] - 42s 112us/step - loss: 0.6569 - accuracy: 0.7115 - val_loss: 0.7180 - val_accuracy: 0.6885\n",
      "Epoch 37/150\n",
      "377318/377318 [==============================] - 41s 109us/step - loss: 0.6547 - accuracy: 0.7120 - val_loss: 0.7168 - val_accuracy: 0.6883\n",
      "Epoch 38/150\n",
      "377318/377318 [==============================] - 42s 111us/step - loss: 0.6524 - accuracy: 0.7145 - val_loss: 0.7180 - val_accuracy: 0.6905\n",
      "Epoch 39/150\n",
      "377318/377318 [==============================] - 41s 109us/step - loss: 0.6502 - accuracy: 0.7153 - val_loss: 0.7113 - val_accuracy: 0.6911\n",
      "Epoch 40/150\n",
      "377318/377318 [==============================] - 43s 115us/step - loss: 0.6479 - accuracy: 0.7160 - val_loss: 0.7111 - val_accuracy: 0.6912\n",
      "Epoch 41/150\n",
      "377318/377318 [==============================] - 44s 117us/step - loss: 0.6456 - accuracy: 0.7182 - val_loss: 0.7107 - val_accuracy: 0.6929\n",
      "Epoch 42/150\n",
      "377318/377318 [==============================] - 44s 116us/step - loss: 0.6434 - accuracy: 0.7185 - val_loss: 0.7083 - val_accuracy: 0.6945\n",
      "Epoch 43/150\n",
      "377318/377318 [==============================] - 39s 105us/step - loss: 0.6413 - accuracy: 0.7206 - val_loss: 0.7084 - val_accuracy: 0.6943\n",
      "Epoch 44/150\n",
      "377318/377318 [==============================] - 38s 100us/step - loss: 0.6390 - accuracy: 0.7210 - val_loss: 0.7085 - val_accuracy: 0.6954\n",
      "Epoch 45/150\n",
      "377318/377318 [==============================] - 38s 101us/step - loss: 0.6381 - accuracy: 0.7220 - val_loss: 0.7071 - val_accuracy: 0.6945\n",
      "Epoch 46/150\n",
      "377318/377318 [==============================] - 43s 113us/step - loss: 0.6363 - accuracy: 0.7225 - val_loss: 0.7035 - val_accuracy: 0.6968\n",
      "Epoch 47/150\n",
      "377318/377318 [==============================] - 40s 105us/step - loss: 0.6342 - accuracy: 0.7244 - val_loss: 0.7061 - val_accuracy: 0.6964\n",
      "Epoch 48/150\n",
      "377318/377318 [==============================] - 39s 102us/step - loss: 0.6323 - accuracy: 0.7248 - val_loss: 0.7073 - val_accuracy: 0.6976\n",
      "Epoch 49/150\n",
      "377318/377318 [==============================] - 38s 102us/step - loss: 0.6300 - accuracy: 0.7262 - val_loss: 0.7027 - val_accuracy: 0.6980\n",
      "Epoch 50/150\n",
      "377318/377318 [==============================] - 37s 97us/step - loss: 0.6280 - accuracy: 0.7275 - val_loss: 0.6979 - val_accuracy: 0.7000\n",
      "Epoch 51/150\n",
      "377318/377318 [==============================] - 39s 103us/step - loss: 0.6263 - accuracy: 0.7284 - val_loss: 0.6985 - val_accuracy: 0.7003\n",
      "Epoch 52/150\n",
      "377318/377318 [==============================] - 40s 106us/step - loss: 0.6238 - accuracy: 0.7291 - val_loss: 0.7033 - val_accuracy: 0.6990\n",
      "Epoch 53/150\n",
      "377318/377318 [==============================] - 44s 116us/step - loss: 0.6243 - accuracy: 0.7290 - val_loss: 0.7014 - val_accuracy: 0.6994\n",
      "Epoch 54/150\n",
      "377318/377318 [==============================] - 41s 108us/step - loss: 0.6223 - accuracy: 0.7312 - val_loss: 0.6986 - val_accuracy: 0.6999\n",
      "Epoch 55/150\n",
      "377318/377318 [==============================] - 41s 107us/step - loss: 0.6201 - accuracy: 0.7313 - val_loss: 0.6981 - val_accuracy: 0.7004\n",
      "Epoch 56/150\n",
      "377318/377318 [==============================] - 42s 112us/step - loss: 0.6184 - accuracy: 0.7332 - val_loss: 0.6959 - val_accuracy: 0.7041\n",
      "Epoch 57/150\n",
      "377318/377318 [==============================] - 47s 124us/step - loss: 0.6179 - accuracy: 0.7333 - val_loss: 0.6954 - val_accuracy: 0.7034\n",
      "Epoch 58/150\n",
      "377318/377318 [==============================] - 45s 120us/step - loss: 0.6158 - accuracy: 0.7344 - val_loss: 0.6936 - val_accuracy: 0.7039\n",
      "Epoch 59/150\n",
      "377318/377318 [==============================] - 43s 114us/step - loss: 0.6153 - accuracy: 0.7337 - val_loss: 0.6933 - val_accuracy: 0.7037\n",
      "Epoch 60/150\n",
      "377318/377318 [==============================] - 45s 118us/step - loss: 0.6127 - accuracy: 0.7356 - val_loss: 0.6925 - val_accuracy: 0.7031\n",
      "Epoch 61/150\n",
      "377318/377318 [==============================] - 43s 114us/step - loss: 0.6124 - accuracy: 0.7362 - val_loss: 0.6933 - val_accuracy: 0.7058\n",
      "Epoch 62/150\n",
      "377318/377318 [==============================] - 42s 112us/step - loss: 0.6107 - accuracy: 0.7369 - val_loss: 0.6939 - val_accuracy: 0.7053\n",
      "Epoch 63/150\n",
      "377318/377318 [==============================] - 43s 114us/step - loss: 0.6077 - accuracy: 0.7381 - val_loss: 0.6904 - val_accuracy: 0.7066\n",
      "Epoch 64/150\n",
      "377318/377318 [==============================] - 42s 113us/step - loss: 0.6079 - accuracy: 0.7386 - val_loss: 0.6920 - val_accuracy: 0.7073\n",
      "Epoch 65/150\n",
      "377318/377318 [==============================] - 43s 113us/step - loss: 0.6065 - accuracy: 0.7394 - val_loss: 0.6893 - val_accuracy: 0.7082\n",
      "Epoch 66/150\n",
      "377318/377318 [==============================] - 43s 115us/step - loss: 0.6051 - accuracy: 0.7393 - val_loss: 0.6904 - val_accuracy: 0.7076\n",
      "Epoch 67/150\n",
      "377318/377318 [==============================] - 44s 117us/step - loss: 0.6046 - accuracy: 0.7398 - val_loss: 0.6920 - val_accuracy: 0.7086\n",
      "Epoch 68/150\n",
      "377318/377318 [==============================] - 49s 131us/step - loss: 0.6033 - accuracy: 0.7407 - val_loss: 0.6941 - val_accuracy: 0.7058\n",
      "Epoch 69/150\n",
      "377318/377318 [==============================] - 65s 173us/step - loss: 0.6036 - accuracy: 0.7409 - val_loss: 0.6899 - val_accuracy: 0.7087\n",
      "Epoch 70/150\n",
      "377318/377318 [==============================] - 70s 184us/step - loss: 0.6017 - accuracy: 0.7420 - val_loss: 0.6926 - val_accuracy: 0.7059\n",
      "Epoch 71/150\n",
      "377318/377318 [==============================] - 67s 178us/step - loss: 0.6000 - accuracy: 0.7427 - val_loss: 0.6868 - val_accuracy: 0.7100\n",
      "Epoch 72/150\n",
      "377318/377318 [==============================] - 68s 179us/step - loss: 0.5981 - accuracy: 0.7434 - val_loss: 0.6905 - val_accuracy: 0.7099\n",
      "Epoch 73/150\n",
      "377318/377318 [==============================] - 68s 179us/step - loss: 0.5973 - accuracy: 0.7435 - val_loss: 0.6863 - val_accuracy: 0.7105\n",
      "Epoch 74/150\n",
      "377318/377318 [==============================] - 70s 185us/step - loss: 0.5959 - accuracy: 0.7448 - val_loss: 0.6862 - val_accuracy: 0.7098\n",
      "Epoch 75/150\n",
      "377318/377318 [==============================] - 69s 183us/step - loss: 0.5961 - accuracy: 0.7439 - val_loss: 0.6858 - val_accuracy: 0.7108\n",
      "Epoch 76/150\n",
      "377318/377318 [==============================] - 69s 182us/step - loss: 0.5944 - accuracy: 0.7452 - val_loss: 0.6858 - val_accuracy: 0.7114\n",
      "Epoch 77/150\n",
      "377318/377318 [==============================] - 69s 183us/step - loss: 0.5943 - accuracy: 0.7456 - val_loss: 0.6847 - val_accuracy: 0.7122\n",
      "Epoch 78/150\n",
      "377318/377318 [==============================] - 67s 178us/step - loss: 0.5934 - accuracy: 0.7462 - val_loss: 0.6854 - val_accuracy: 0.7122\n",
      "Epoch 79/150\n",
      "377318/377318 [==============================] - 67s 178us/step - loss: 0.5904 - accuracy: 0.7483 - val_loss: 0.6861 - val_accuracy: 0.7103\n",
      "Epoch 80/150\n",
      "377318/377318 [==============================] - 66s 174us/step - loss: 0.5913 - accuracy: 0.7467 - val_loss: 0.6841 - val_accuracy: 0.7125\n",
      "Epoch 81/150\n",
      "377318/377318 [==============================] - 67s 179us/step - loss: 0.5900 - accuracy: 0.7476 - val_loss: 0.6841 - val_accuracy: 0.7137\n",
      "Epoch 82/150\n",
      "377318/377318 [==============================] - 66s 174us/step - loss: 0.5894 - accuracy: 0.7478 - val_loss: 0.6825 - val_accuracy: 0.7140\n",
      "Epoch 83/150\n",
      "377318/377318 [==============================] - 68s 180us/step - loss: 0.5887 - accuracy: 0.7487 - val_loss: 0.6824 - val_accuracy: 0.7139\n",
      "Epoch 84/150\n",
      "377318/377318 [==============================] - 68s 181us/step - loss: 0.5869 - accuracy: 0.7489 - val_loss: 0.6822 - val_accuracy: 0.7125\n",
      "Epoch 85/150\n",
      "377318/377318 [==============================] - 70s 184us/step - loss: 0.5862 - accuracy: 0.7494 - val_loss: 0.6866 - val_accuracy: 0.7128\n",
      "Epoch 86/150\n",
      "377318/377318 [==============================] - 67s 178us/step - loss: 0.5847 - accuracy: 0.7508 - val_loss: 0.6829 - val_accuracy: 0.7124\n",
      "Epoch 87/150\n",
      "377318/377318 [==============================] - 68s 179us/step - loss: 0.5840 - accuracy: 0.7510 - val_loss: 0.6815 - val_accuracy: 0.7147\n",
      "Epoch 88/150\n",
      "377318/377318 [==============================] - 64s 171us/step - loss: 0.5843 - accuracy: 0.7504 - val_loss: 0.6852 - val_accuracy: 0.7130\n",
      "Epoch 89/150\n",
      "377318/377318 [==============================] - 68s 180us/step - loss: 0.5829 - accuracy: 0.7518 - val_loss: 0.6804 - val_accuracy: 0.7149\n",
      "Epoch 90/150\n",
      "377318/377318 [==============================] - 68s 180us/step - loss: 0.5819 - accuracy: 0.7527 - val_loss: 0.6797 - val_accuracy: 0.7159\n",
      "Epoch 91/150\n",
      "377318/377318 [==============================] - 68s 181us/step - loss: 0.5816 - accuracy: 0.7523 - val_loss: 0.6792 - val_accuracy: 0.7144\n",
      "Epoch 92/150\n",
      "377318/377318 [==============================] - 69s 183us/step - loss: 0.5795 - accuracy: 0.7529 - val_loss: 0.6779 - val_accuracy: 0.7168\n",
      "Epoch 93/150\n",
      "377318/377318 [==============================] - 68s 179us/step - loss: 0.5789 - accuracy: 0.7532 - val_loss: 0.6780 - val_accuracy: 0.7179\n",
      "Epoch 94/150\n",
      "377318/377318 [==============================] - 67s 179us/step - loss: 0.5786 - accuracy: 0.7535 - val_loss: 0.6767 - val_accuracy: 0.7176\n",
      "Epoch 95/150\n",
      "377318/377318 [==============================] - 68s 182us/step - loss: 0.5785 - accuracy: 0.7545 - val_loss: 0.6776 - val_accuracy: 0.7188\n",
      "Epoch 96/150\n",
      "377318/377318 [==============================] - 67s 177us/step - loss: 0.5766 - accuracy: 0.7547 - val_loss: 0.6780 - val_accuracy: 0.7179\n",
      "Epoch 97/150\n",
      "377318/377318 [==============================] - 68s 180us/step - loss: 0.5767 - accuracy: 0.7547 - val_loss: 0.6813 - val_accuracy: 0.7186\n",
      "Epoch 98/150\n",
      "377318/377318 [==============================] - 67s 177us/step - loss: 0.5752 - accuracy: 0.7562 - val_loss: 0.6770 - val_accuracy: 0.7192\n",
      "Epoch 99/150\n",
      "377318/377318 [==============================] - 60s 158us/step - loss: 0.5752 - accuracy: 0.7554 - val_loss: 0.6795 - val_accuracy: 0.7176\n",
      "Epoch 100/150\n",
      "377318/377318 [==============================] - 58s 155us/step - loss: 0.5750 - accuracy: 0.7564 - val_loss: 0.6792 - val_accuracy: 0.7190\n",
      "Epoch 101/150\n",
      "377318/377318 [==============================] - 64s 170us/step - loss: 0.5730 - accuracy: 0.7566 - val_loss: 0.6762 - val_accuracy: 0.7186\n",
      "Epoch 102/150\n",
      "377318/377318 [==============================] - 65s 173us/step - loss: 0.5718 - accuracy: 0.7579 - val_loss: 0.6756 - val_accuracy: 0.7201\n",
      "Epoch 103/150\n",
      "377318/377318 [==============================] - 68s 180us/step - loss: 0.5710 - accuracy: 0.7572 - val_loss: 0.6757 - val_accuracy: 0.7184\n",
      "Epoch 104/150\n",
      "377318/377318 [==============================] - 69s 182us/step - loss: 0.5706 - accuracy: 0.7577 - val_loss: 0.6766 - val_accuracy: 0.7185\n",
      "Epoch 105/150\n",
      "377318/377318 [==============================] - 69s 184us/step - loss: 0.5709 - accuracy: 0.7579 - val_loss: 0.6767 - val_accuracy: 0.7180\n",
      "Epoch 106/150\n",
      "377318/377318 [==============================] - 68s 181us/step - loss: 0.5705 - accuracy: 0.7578 - val_loss: 0.6742 - val_accuracy: 0.7218\n",
      "Epoch 107/150\n"
     ]
    },
    {
     "name": "stdout",
     "output_type": "stream",
     "text": [
      "377318/377318 [==============================] - 65s 172us/step - loss: 0.5698 - accuracy: 0.7591 - val_loss: 0.6747 - val_accuracy: 0.7200\n",
      "Epoch 108/150\n",
      "377318/377318 [==============================] - 63s 166us/step - loss: 0.5691 - accuracy: 0.7585 - val_loss: 0.6746 - val_accuracy: 0.7198\n",
      "Epoch 109/150\n",
      "377318/377318 [==============================] - 55s 145us/step - loss: 0.5683 - accuracy: 0.7592 - val_loss: 0.6750 - val_accuracy: 0.7204\n",
      "Epoch 110/150\n",
      "377318/377318 [==============================] - 44s 116us/step - loss: 0.5670 - accuracy: 0.7601 - val_loss: 0.6748 - val_accuracy: 0.7202\n",
      "Epoch 111/150\n",
      "377318/377318 [==============================] - 43s 115us/step - loss: 0.5672 - accuracy: 0.7599 - val_loss: 0.6777 - val_accuracy: 0.7187\n",
      "Epoch 112/150\n",
      "377318/377318 [==============================] - 44s 117us/step - loss: 0.5659 - accuracy: 0.7602 - val_loss: 0.6728 - val_accuracy: 0.7223\n",
      "Epoch 113/150\n",
      "377318/377318 [==============================] - 44s 118us/step - loss: 0.5646 - accuracy: 0.7607 - val_loss: 0.6744 - val_accuracy: 0.7207\n",
      "Epoch 114/150\n",
      "377318/377318 [==============================] - 44s 117us/step - loss: 0.5648 - accuracy: 0.7606 - val_loss: 0.6749 - val_accuracy: 0.7211\n",
      "Epoch 115/150\n",
      "377318/377318 [==============================] - 44s 118us/step - loss: 0.5655 - accuracy: 0.7607 - val_loss: 0.6754 - val_accuracy: 0.7201\n",
      "Epoch 116/150\n",
      "377318/377318 [==============================] - 45s 118us/step - loss: 0.5637 - accuracy: 0.7612 - val_loss: 0.6754 - val_accuracy: 0.7212\n",
      "Epoch 117/150\n",
      "377318/377318 [==============================] - 45s 118us/step - loss: 0.5644 - accuracy: 0.7616 - val_loss: 0.6707 - val_accuracy: 0.7235\n",
      "Epoch 118/150\n",
      "377318/377318 [==============================] - 45s 118us/step - loss: 0.5613 - accuracy: 0.7632 - val_loss: 0.6700 - val_accuracy: 0.7233\n",
      "Epoch 119/150\n",
      "377318/377318 [==============================] - 45s 118us/step - loss: 0.5628 - accuracy: 0.7626 - val_loss: 0.6689 - val_accuracy: 0.7230\n",
      "Epoch 120/150\n",
      "377318/377318 [==============================] - 45s 120us/step - loss: 0.5603 - accuracy: 0.7630 - val_loss: 0.6722 - val_accuracy: 0.7241\n",
      "Epoch 121/150\n",
      "377318/377318 [==============================] - 48s 126us/step - loss: 0.5599 - accuracy: 0.7638 - val_loss: 0.6792 - val_accuracy: 0.7174\n",
      "Epoch 122/150\n",
      "377318/377318 [==============================] - 44s 117us/step - loss: 0.5616 - accuracy: 0.7626 - val_loss: 0.6707 - val_accuracy: 0.7239\n",
      "Epoch 123/150\n",
      "377318/377318 [==============================] - 44s 117us/step - loss: 0.5600 - accuracy: 0.7637 - val_loss: 0.6707 - val_accuracy: 0.7244\n",
      "Epoch 124/150\n",
      "377318/377318 [==============================] - 45s 119us/step - loss: 0.5580 - accuracy: 0.7648 - val_loss: 0.6695 - val_accuracy: 0.7251\n",
      "Epoch 125/150\n",
      "377318/377318 [==============================] - 45s 119us/step - loss: 0.5582 - accuracy: 0.7635 - val_loss: 0.6711 - val_accuracy: 0.7242\n",
      "Epoch 126/150\n",
      "377318/377318 [==============================] - 45s 120us/step - loss: 0.5581 - accuracy: 0.7649 - val_loss: 0.6678 - val_accuracy: 0.7250\n",
      "Epoch 127/150\n",
      "377318/377318 [==============================] - 45s 120us/step - loss: 0.5579 - accuracy: 0.7643 - val_loss: 0.6727 - val_accuracy: 0.7208\n",
      "Epoch 128/150\n",
      "377318/377318 [==============================] - 44s 115us/step - loss: 0.5571 - accuracy: 0.7647 - val_loss: 0.6707 - val_accuracy: 0.7258\n",
      "Epoch 129/150\n",
      "377318/377318 [==============================] - 43s 114us/step - loss: 0.5565 - accuracy: 0.7658 - val_loss: 0.6678 - val_accuracy: 0.7253\n",
      "Epoch 130/150\n",
      "377318/377318 [==============================] - 43s 113us/step - loss: 0.5561 - accuracy: 0.7664 - val_loss: 0.6718 - val_accuracy: 0.7241\n",
      "Epoch 131/150\n",
      "377318/377318 [==============================] - 42s 111us/step - loss: 0.5549 - accuracy: 0.7664 - val_loss: 0.6654 - val_accuracy: 0.7264\n",
      "Epoch 132/150\n",
      "377318/377318 [==============================] - 44s 115us/step - loss: 0.5552 - accuracy: 0.7659 - val_loss: 0.6654 - val_accuracy: 0.7257\n",
      "Epoch 133/150\n",
      "377318/377318 [==============================] - 42s 112us/step - loss: 0.5539 - accuracy: 0.7666 - val_loss: 0.6649 - val_accuracy: 0.7274\n",
      "Epoch 134/150\n",
      "377318/377318 [==============================] - 42s 111us/step - loss: 0.5538 - accuracy: 0.7671 - val_loss: 0.6669 - val_accuracy: 0.7271\n",
      "Epoch 135/150\n",
      "377318/377318 [==============================] - 39s 104us/step - loss: 0.5529 - accuracy: 0.7664 - val_loss: 0.6657 - val_accuracy: 0.7263\n",
      "Epoch 136/150\n",
      "377318/377318 [==============================] - 38s 101us/step - loss: 0.5536 - accuracy: 0.7665 - val_loss: 0.6646 - val_accuracy: 0.7268\n",
      "Epoch 137/150\n",
      "377318/377318 [==============================] - 37s 99us/step - loss: 0.5517 - accuracy: 0.7683 - val_loss: 0.6692 - val_accuracy: 0.7245\n",
      "Epoch 138/150\n",
      "377318/377318 [==============================] - 44s 116us/step - loss: 0.5536 - accuracy: 0.7671 - val_loss: 0.6652 - val_accuracy: 0.7261\n",
      "Epoch 139/150\n",
      "377318/377318 [==============================] - 46s 122us/step - loss: 0.5515 - accuracy: 0.7684 - val_loss: 0.6664 - val_accuracy: 0.7272\n",
      "Epoch 140/150\n",
      "377318/377318 [==============================] - 44s 116us/step - loss: 0.5514 - accuracy: 0.7686 - val_loss: 0.6651 - val_accuracy: 0.7279\n",
      "Epoch 141/150\n",
      "377318/377318 [==============================] - 43s 114us/step - loss: 0.5507 - accuracy: 0.7679 - val_loss: 0.6657 - val_accuracy: 0.7282\n",
      "Epoch 142/150\n",
      "377318/377318 [==============================] - 42s 112us/step - loss: 0.5513 - accuracy: 0.7686 - val_loss: 0.6663 - val_accuracy: 0.7267\n",
      "Epoch 143/150\n",
      "377318/377318 [==============================] - 43s 114us/step - loss: 0.5496 - accuracy: 0.7689 - val_loss: 0.6656 - val_accuracy: 0.7276\n",
      "Epoch 144/150\n",
      "377318/377318 [==============================] - 43s 113us/step - loss: 0.5517 - accuracy: 0.7679 - val_loss: 0.6674 - val_accuracy: 0.7254\n",
      "Epoch 145/150\n",
      "377318/377318 [==============================] - 43s 115us/step - loss: 0.5492 - accuracy: 0.7692 - val_loss: 0.6619 - val_accuracy: 0.7280\n",
      "Epoch 146/150\n",
      "377318/377318 [==============================] - 43s 114us/step - loss: 0.5483 - accuracy: 0.7691 - val_loss: 0.6650 - val_accuracy: 0.7282\n",
      "Epoch 147/150\n",
      "377318/377318 [==============================] - 44s 117us/step - loss: 0.5482 - accuracy: 0.7694 - val_loss: 0.6636 - val_accuracy: 0.7279\n",
      "Epoch 148/150\n",
      "377318/377318 [==============================] - 44s 117us/step - loss: 0.5482 - accuracy: 0.7703 - val_loss: 0.6649 - val_accuracy: 0.7276\n",
      "Epoch 149/150\n",
      "377318/377318 [==============================] - 43s 115us/step - loss: 0.5481 - accuracy: 0.7689 - val_loss: 0.6659 - val_accuracy: 0.7266\n",
      "Epoch 150/150\n",
      "377318/377318 [==============================] - 43s 115us/step - loss: 0.5479 - accuracy: 0.7693 - val_loss: 0.6682 - val_accuracy: 0.7280\n"
     ]
    }
   ],
   "source": [
    "hist=model.fit(train_data, dummy_train_target, epochs=150, batch_size=200, verbose=1, validation_data=(test_data,dummy_test_target))"
   ]
  },
  {
   "cell_type": "code",
   "execution_count": 44,
   "metadata": {},
   "outputs": [
    {
     "name": "stdout",
     "output_type": "stream",
     "text": [
      "377318/377318 [==============================] - 24s 63us/step\n",
      "94330/94330 [==============================] - 6s 64us/step\n",
      "Train Accuracy= 0.8519869446754456\n",
      "Test Accuracy= 0.7279656529426575\n"
     ]
    }
   ],
   "source": [
    "_, accuracy = model.evaluate(train_data, dummy_train_target)\n",
    "_, test_accuracy = model.evaluate(test_data, dummy_test_target)\n",
    "\n",
    "print('Train Accuracy=',accuracy)\n",
    "print('Test Accuracy=',test_accuracy)"
   ]
  },
  {
   "cell_type": "code",
   "execution_count": 14,
   "metadata": {},
   "outputs": [
    {
     "name": "stdout",
     "output_type": "stream",
     "text": [
      "Train on 377318 samples, validate on 94330 samples\n",
      "Epoch 1/65\n",
      "377318/377318 [==============================] - 36s 96us/step - loss: 0.8157 - accuracy: 0.6280 - val_loss: 0.7942 - val_accuracy: 0.6391\n",
      "Epoch 2/65\n",
      "377318/377318 [==============================] - 38s 101us/step - loss: 0.7958 - accuracy: 0.6386 - val_loss: 0.7973 - val_accuracy: 0.6406\n",
      "Epoch 3/65\n",
      "377318/377318 [==============================] - 38s 100us/step - loss: 0.7887 - accuracy: 0.6412 - val_loss: 0.7893 - val_accuracy: 0.6423\n",
      "Epoch 4/65\n",
      "377318/377318 [==============================] - 38s 101us/step - loss: 0.7833 - accuracy: 0.6446 - val_loss: 0.7835 - val_accuracy: 0.6446\n",
      "Epoch 5/65\n",
      "377318/377318 [==============================] - 37s 99us/step - loss: 0.7783 - accuracy: 0.6468 - val_loss: 0.7793 - val_accuracy: 0.6462\n",
      "Epoch 6/65\n",
      "377318/377318 [==============================] - 37s 99us/step - loss: 0.7728 - accuracy: 0.6498 - val_loss: 0.7776 - val_accuracy: 0.6492\n",
      "Epoch 7/65\n",
      "377318/377318 [==============================] - 41s 108us/step - loss: 0.7675 - accuracy: 0.6525 - val_loss: 0.7800 - val_accuracy: 0.6493\n",
      "Epoch 8/65\n",
      "377318/377318 [==============================] - 41s 107us/step - loss: 0.7627 - accuracy: 0.6552 - val_loss: 0.7751 - val_accuracy: 0.6507\n",
      "Epoch 9/65\n",
      "377318/377318 [==============================] - 40s 106us/step - loss: 0.7573 - accuracy: 0.6583 - val_loss: 0.7696 - val_accuracy: 0.6527\n",
      "Epoch 10/65\n",
      "377318/377318 [==============================] - 40s 107us/step - loss: 0.7525 - accuracy: 0.6605 - val_loss: 0.7704 - val_accuracy: 0.6549\n",
      "Epoch 11/65\n",
      "377318/377318 [==============================] - 40s 106us/step - loss: 0.7478 - accuracy: 0.6633 - val_loss: 0.7672 - val_accuracy: 0.6554\n",
      "Epoch 12/65\n",
      "377318/377318 [==============================] - 41s 108us/step - loss: 0.7429 - accuracy: 0.6665 - val_loss: 0.7637 - val_accuracy: 0.6567\n",
      "Epoch 13/65\n",
      "377318/377318 [==============================] - 41s 109us/step - loss: 0.7380 - accuracy: 0.6682 - val_loss: 0.7600 - val_accuracy: 0.6583\n",
      "Epoch 14/65\n",
      "377318/377318 [==============================] - 42s 112us/step - loss: 0.7341 - accuracy: 0.6706 - val_loss: 0.7562 - val_accuracy: 0.6631\n",
      "Epoch 15/65\n",
      "377318/377318 [==============================] - 42s 112us/step - loss: 0.7290 - accuracy: 0.6737 - val_loss: 0.7551 - val_accuracy: 0.6633\n",
      "Epoch 16/65\n",
      "377318/377318 [==============================] - 41s 109us/step - loss: 0.7236 - accuracy: 0.6771 - val_loss: 0.7519 - val_accuracy: 0.6653\n",
      "Epoch 17/65\n",
      "377318/377318 [==============================] - 40s 105us/step - loss: 0.7196 - accuracy: 0.6793 - val_loss: 0.7523 - val_accuracy: 0.6637\n",
      "Epoch 18/65\n",
      "377318/377318 [==============================] - 40s 107us/step - loss: 0.7152 - accuracy: 0.6815 - val_loss: 0.7470 - val_accuracy: 0.6684\n",
      "Epoch 19/65\n",
      "377318/377318 [==============================] - 42s 111us/step - loss: 0.7115 - accuracy: 0.6836 - val_loss: 0.7442 - val_accuracy: 0.6702\n",
      "Epoch 20/65\n",
      "377318/377318 [==============================] - 41s 109us/step - loss: 0.7067 - accuracy: 0.6856 - val_loss: 0.7447 - val_accuracy: 0.6699\n",
      "Epoch 21/65\n",
      "377318/377318 [==============================] - 42s 110us/step - loss: 0.7028 - accuracy: 0.6881 - val_loss: 0.7420 - val_accuracy: 0.6719\n",
      "Epoch 22/65\n",
      "377318/377318 [==============================] - 42s 111us/step - loss: 0.6982 - accuracy: 0.6906 - val_loss: 0.7385 - val_accuracy: 0.6749\n",
      "Epoch 23/65\n",
      "377318/377318 [==============================] - 42s 110us/step - loss: 0.6949 - accuracy: 0.6924 - val_loss: 0.7370 - val_accuracy: 0.6736\n",
      "Epoch 24/65\n",
      "377318/377318 [==============================] - 42s 111us/step - loss: 0.6921 - accuracy: 0.6948 - val_loss: 0.7355 - val_accuracy: 0.6768\n",
      "Epoch 25/65\n",
      "377318/377318 [==============================] - 42s 111us/step - loss: 0.6889 - accuracy: 0.6968 - val_loss: 0.7342 - val_accuracy: 0.6774\n",
      "Epoch 26/65\n",
      "377318/377318 [==============================] - 42s 111us/step - loss: 0.6838 - accuracy: 0.6996 - val_loss: 0.7314 - val_accuracy: 0.6791\n",
      "Epoch 27/65\n",
      "377318/377318 [==============================] - 42s 112us/step - loss: 0.6812 - accuracy: 0.7010 - val_loss: 0.7306 - val_accuracy: 0.6797\n",
      "Epoch 28/65\n",
      "377318/377318 [==============================] - 42s 111us/step - loss: 0.6778 - accuracy: 0.7030 - val_loss: 0.7289 - val_accuracy: 0.6792\n",
      "Epoch 29/65\n",
      "377318/377318 [==============================] - 41s 110us/step - loss: 0.6756 - accuracy: 0.7045 - val_loss: 0.7269 - val_accuracy: 0.6820\n",
      "Epoch 30/65\n",
      "377318/377318 [==============================] - 47s 125us/step - loss: 0.6719 - accuracy: 0.7056 - val_loss: 0.7252 - val_accuracy: 0.6846\n",
      "Epoch 31/65\n",
      "377318/377318 [==============================] - 42s 111us/step - loss: 0.6692 - accuracy: 0.7071 - val_loss: 0.7242 - val_accuracy: 0.6851\n",
      "Epoch 32/65\n",
      "377318/377318 [==============================] - 43s 113us/step - loss: 0.6664 - accuracy: 0.7085 - val_loss: 0.7205 - val_accuracy: 0.6859\n",
      "Epoch 33/65\n",
      "377318/377318 [==============================] - 42s 112us/step - loss: 0.6632 - accuracy: 0.7107 - val_loss: 0.7227 - val_accuracy: 0.6879\n",
      "Epoch 34/65\n",
      "377318/377318 [==============================] - 42s 112us/step - loss: 0.6606 - accuracy: 0.7119 - val_loss: 0.7195 - val_accuracy: 0.6883\n",
      "Epoch 35/65\n",
      "377318/377318 [==============================] - 41s 110us/step - loss: 0.6579 - accuracy: 0.7140 - val_loss: 0.7181 - val_accuracy: 0.6884\n",
      "Epoch 36/65\n",
      "377318/377318 [==============================] - 42s 110us/step - loss: 0.6547 - accuracy: 0.7159 - val_loss: 0.7190 - val_accuracy: 0.6864\n",
      "Epoch 37/65\n",
      "377318/377318 [==============================] - 43s 115us/step - loss: 0.6536 - accuracy: 0.7158 - val_loss: 0.7152 - val_accuracy: 0.6906\n",
      "Epoch 38/65\n",
      "377318/377318 [==============================] - 44s 116us/step - loss: 0.6522 - accuracy: 0.7164 - val_loss: 0.7156 - val_accuracy: 0.6900\n",
      "Epoch 39/65\n",
      "377318/377318 [==============================] - 43s 114us/step - loss: 0.6496 - accuracy: 0.7175 - val_loss: 0.7122 - val_accuracy: 0.6914\n",
      "Epoch 40/65\n",
      "377318/377318 [==============================] - 44s 115us/step - loss: 0.6458 - accuracy: 0.7194 - val_loss: 0.7140 - val_accuracy: 0.6919\n",
      "Epoch 41/65\n",
      "377318/377318 [==============================] - 44s 116us/step - loss: 0.6444 - accuracy: 0.7210 - val_loss: 0.7110 - val_accuracy: 0.6918\n",
      "Epoch 42/65\n",
      "377318/377318 [==============================] - 41s 110us/step - loss: 0.6419 - accuracy: 0.7220 - val_loss: 0.7069 - val_accuracy: 0.6962\n",
      "Epoch 43/65\n",
      "377318/377318 [==============================] - 43s 113us/step - loss: 0.6403 - accuracy: 0.7235 - val_loss: 0.7078 - val_accuracy: 0.6952\n",
      "Epoch 44/65\n",
      "377318/377318 [==============================] - 42s 112us/step - loss: 0.6369 - accuracy: 0.7250 - val_loss: 0.7053 - val_accuracy: 0.6959\n",
      "Epoch 45/65\n",
      "377318/377318 [==============================] - 42s 111us/step - loss: 0.6347 - accuracy: 0.7262 - val_loss: 0.7039 - val_accuracy: 0.6962\n",
      "Epoch 46/65\n",
      "377318/377318 [==============================] - 42s 112us/step - loss: 0.6343 - accuracy: 0.7262 - val_loss: 0.7040 - val_accuracy: 0.6980\n",
      "Epoch 47/65\n",
      "377318/377318 [==============================] - 44s 116us/step - loss: 0.6322 - accuracy: 0.7269 - val_loss: 0.7023 - val_accuracy: 0.6990\n",
      "Epoch 48/65\n",
      "377318/377318 [==============================] - 42s 112us/step - loss: 0.6304 - accuracy: 0.7292 - val_loss: 0.7022 - val_accuracy: 0.6982\n",
      "Epoch 49/65\n",
      "377318/377318 [==============================] - 42s 110us/step - loss: 0.6276 - accuracy: 0.7302 - val_loss: 0.6998 - val_accuracy: 0.6987\n",
      "Epoch 50/65\n",
      "377318/377318 [==============================] - 43s 114us/step - loss: 0.6261 - accuracy: 0.7308 - val_loss: 0.7018 - val_accuracy: 0.6989\n",
      "Epoch 51/65\n",
      "377318/377318 [==============================] - 42s 112us/step - loss: 0.6246 - accuracy: 0.7322 - val_loss: 0.6969 - val_accuracy: 0.7030\n",
      "Epoch 52/65\n",
      "377318/377318 [==============================] - 42s 111us/step - loss: 0.6233 - accuracy: 0.7321 - val_loss: 0.7011 - val_accuracy: 0.7016\n",
      "Epoch 53/65\n",
      "377318/377318 [==============================] - 42s 112us/step - loss: 0.6200 - accuracy: 0.7335 - val_loss: 0.6992 - val_accuracy: 0.7015\n",
      "Epoch 54/65\n",
      "377318/377318 [==============================] - 40s 106us/step - loss: 0.6203 - accuracy: 0.7333 - val_loss: 0.6972 - val_accuracy: 0.7022\n",
      "Epoch 55/65\n",
      "377318/377318 [==============================] - 41s 108us/step - loss: 0.6179 - accuracy: 0.7348 - val_loss: 0.6955 - val_accuracy: 0.7029\n",
      "Epoch 56/65\n",
      "377318/377318 [==============================] - 40s 107us/step - loss: 0.6172 - accuracy: 0.7353 - val_loss: 0.6932 - val_accuracy: 0.7049\n",
      "Epoch 57/65\n",
      "377318/377318 [==============================] - 41s 109us/step - loss: 0.6152 - accuracy: 0.7363 - val_loss: 0.6970 - val_accuracy: 0.7017\n",
      "Epoch 58/65\n",
      "377318/377318 [==============================] - 42s 110us/step - loss: 0.6139 - accuracy: 0.7374 - val_loss: 0.6959 - val_accuracy: 0.7047\n",
      "Epoch 59/65\n",
      "377318/377318 [==============================] - 42s 111us/step - loss: 0.6106 - accuracy: 0.7384 - val_loss: 0.6928 - val_accuracy: 0.7059\n",
      "Epoch 60/65\n",
      "377318/377318 [==============================] - 42s 111us/step - loss: 0.6116 - accuracy: 0.7380 - val_loss: 0.6916 - val_accuracy: 0.7078\n",
      "Epoch 61/65\n",
      "377318/377318 [==============================] - 41s 109us/step - loss: 0.6081 - accuracy: 0.7405 - val_loss: 0.6900 - val_accuracy: 0.7073\n",
      "Epoch 62/65\n",
      "377318/377318 [==============================] - 42s 111us/step - loss: 0.6077 - accuracy: 0.7404 - val_loss: 0.6886 - val_accuracy: 0.7088\n",
      "Epoch 63/65\n",
      "377318/377318 [==============================] - 43s 113us/step - loss: 0.6062 - accuracy: 0.7409 - val_loss: 0.6923 - val_accuracy: 0.7071\n",
      "Epoch 64/65\n",
      "377318/377318 [==============================] - 42s 112us/step - loss: 0.6052 - accuracy: 0.7415 - val_loss: 0.6883 - val_accuracy: 0.7086\n",
      "Epoch 65/65\n",
      "377318/377318 [==============================] - 43s 113us/step - loss: 0.6053 - accuracy: 0.7415 - val_loss: 0.6899 - val_accuracy: 0.7082\n"
     ]
    }
   ],
   "source": [
    "hist1=model.fit(train_data, dummy_train_target, epochs=65, batch_size=200, verbose=1, validation_data=(test_data,dummy_test_target))"
   ]
  },
  {
   "cell_type": "markdown",
   "metadata": {},
   "source": [
    "Finding the Training set and Test set accuracy using keras.evaluate()"
   ]
  },
  {
   "cell_type": "code",
   "execution_count": 15,
   "metadata": {},
   "outputs": [
    {
     "name": "stdout",
     "output_type": "stream",
     "text": [
      "377318/377318 [==============================] - 24s 63us/step\n",
      "94330/94330 [==============================] - 6s 62us/step\n",
      "Train Accuracy= 0.8042473196983337\n",
      "Test Accuracy= 0.7082158327102661\n"
     ]
    }
   ],
   "source": [
    "#2\n",
    "_, accuracy = model.evaluate(train_data, dummy_train_target)\n",
    "_, test_accuracy = model.evaluate(test_data, dummy_test_target)\n",
    "\n",
    "print('Train Accuracy=',accuracy)\n",
    "print('Test Accuracy=',test_accuracy)"
   ]
  },
  {
   "cell_type": "code",
   "execution_count": 16,
   "metadata": {},
   "outputs": [
    {
     "data": {
      "image/png": "[encoded data removed]",
      "text/plain": [
       "<Figure size 432x288 with 1 Axes>"
      ]
     },
     "metadata": {
      "needs_background": "light"
     },
     "output_type": "display_data"
    }
   ],
   "source": [
    "epoch_num = np.arange(0, 65)\n",
    "plt.figure()\n",
    "plt.plot(epoch_num, hist1.history[\"loss\"], label=\"train_loss\")\n",
    "plt.plot(epoch_num, hist1.history[\"val_loss\"], label=\"val_loss\")\n",
    "plt.plot(epoch_num, hist1.history[\"accuracy\"], label=\"train_acc\")\n",
    "plt.plot(epoch_num, hist1.history[\"val_accuracy\"], label=\"val_acc\")\n",
    "plt.title(\"Training Loss and Accuracy\")\n",
    "plt.xlabel(\"Epoch #\")\n",
    "plt.ylabel(\"Loss/Accuracy\")\n",
    "plt.legend()\n",
    "plt.savefig('Lung Cancer ANN Epoch Plot')"
   ]
  },
  {
   "cell_type": "markdown",
   "metadata": {},
   "source": [
    "Performance comparison between the Training Set and Test Set."
   ]
  },
  {
   "cell_type": "code",
   "execution_count": 17,
   "metadata": {},
   "outputs": [
    {
     "name": "stdout",
     "output_type": "stream",
     "text": [
      "377318/377318 [==============================] - 22s 57us/step\n",
      "94330/94330 [==============================] - 6s 61us/step\n"
     ]
    }
   ],
   "source": [
    "y_hat_train_class = model.predict_classes(train_data, verbose=1)\n",
    "y_hat_test_class = model.predict_classes(test_data, verbose=1)"
   ]
  },
  {
   "cell_type": "code",
   "execution_count": 18,
   "metadata": {},
   "outputs": [
    {
     "name": "stdout",
     "output_type": "stream",
     "text": [
      "Training Set Performance\n",
      "[[101511  12868  11325]\n",
      " [ 29876  89692   6368]\n",
      " [ 10013   3411 112254]]\n",
      "              precision    recall  f1-score   support\n",
      "\n",
      "    0.5-2yrs       0.72      0.81      0.76    125704\n",
      "   <=6months       0.85      0.71      0.77    125936\n",
      "       >2yrs       0.86      0.89      0.88    125678\n",
      "\n",
      "    accuracy                           0.80    377318\n",
      "   macro avg       0.81      0.80      0.80    377318\n",
      "weighted avg       0.81      0.80      0.80    377318\n",
      "\n"
     ]
    }
   ],
   "source": [
    "print('Training Set Performance')\n",
    "conf_matrix_ann = confusion_matrix(encoder.inverse_transform(encoded_train_target), encoder.inverse_transform(y_hat_train_class))\n",
    "print(conf_matrix_ann)\n",
    "\n",
    "cr_ann = classification_report(encoder.inverse_transform(encoded_train_target), encoder.inverse_transform(y_hat_train_class))\n",
    "print(cr_ann)"
   ]
  },
  {
   "cell_type": "code",
   "execution_count": 19,
   "metadata": {},
   "outputs": [
    {
     "name": "stdout",
     "output_type": "stream",
     "text": [
      "Test Set Performance\n",
      "[[22157  5036  4319]\n",
      " [ 9452 19480  2348]\n",
      " [ 4967  1402 25169]]\n",
      "              precision    recall  f1-score   support\n",
      "\n",
      "    0.5-2yrs       0.61      0.70      0.65     31512\n",
      "   <=6months       0.75      0.62      0.68     31280\n",
      "       >2yrs       0.79      0.80      0.79     31538\n",
      "\n",
      "    accuracy                           0.71     94330\n",
      "   macro avg       0.72      0.71      0.71     94330\n",
      "weighted avg       0.72      0.71      0.71     94330\n",
      "\n"
     ]
    }
   ],
   "source": [
    "print('Test Set Performance')\n",
    "conf_matrix_ann = confusion_matrix(encoder.inverse_transform(encoded_test_target), encoder.inverse_transform(y_hat_test_class))\n",
    "print(conf_matrix_ann)\n",
    "\n",
    "cr_ann = classification_report(encoder.inverse_transform(encoded_test_target), encoder.inverse_transform(y_hat_test_class))\n",
    "print(cr_ann)"
   ]
  },
  {
   "cell_type": "markdown",
   "metadata": {},
   "source": [
    "## CNN Model "
   ]
  },
  {
   "cell_type": "markdown",
   "metadata": {},
   "source": [
    "For both the RNN and CNN models, we need the input to be 3-dimensional including the timesteps. Therefore, reshaping the 2-D array into 3-D space."
   ]
  },
  {
   "cell_type": "code",
   "execution_count": 20,
   "metadata": {},
   "outputs": [],
   "source": [
    "train_data,test_data,train_target,test_target=train_test_split(data,target,test_size=0.2,random_state=101)\n",
    "\n",
    "scaler=StandardScaler()\n",
    "train_data=scaler.fit_transform(train_data)\n",
    "test_data=scaler.transform(test_data)\n",
    "\n",
    "train_data=train_data.reshape(train_data.shape[0],1,train_data.shape[1])\n",
    "test_data=test_data.reshape(test_data.shape[0],1,test_data.shape[1])\n",
    "\n",
    "encoder = LabelEncoder()\n",
    "encoder.fit(train_target)\n",
    "encoded_train_target = encoder.transform(train_target)\n",
    "dummy_train_target = np_utils.to_categorical(encoded_train_target)\n",
    "\n",
    "encoded_test_target=encoder.transform(test_target)\n",
    "dummy_test_target = np_utils.to_categorical(encoded_test_target)"
   ]
  },
  {
   "cell_type": "code",
   "execution_count": 21,
   "metadata": {},
   "outputs": [],
   "source": [
    "seed(100)\n",
    "tensorflow.random.set_seed(100)"
   ]
  },
  {
   "cell_type": "markdown",
   "metadata": {},
   "source": [
    "Defining the structure of the CNN with 2 hidden layers with [50,20] neurons each and ReLU activation function on the hidden layers and softmax activation on the output layer. The output layer has three neuron in line with the number of classes for prediction. 20% dropout layer is used after each hidden layer.\n",
    "\n",
    "Loss Function- Categorical Crossentropy\n",
    "\n",
    "Optimizer- ADAM\n",
    "\n",
    "Observed Metrics- Accuracy\n",
    "\n",
    "An initial fit of the model is developed over a large number of epochs to determine point of overfitting of the model."
   ]
  },
  {
   "cell_type": "code",
   "execution_count": 24,
   "metadata": {},
   "outputs": [],
   "source": [
    "#CNN\n",
    "model=Sequential()\n",
    "    \n",
    "model.add(Conv1D(50, 1, input_shape=train_data.shape[1:], activation='relu'))\n",
    "model.add(Dropout(0.2))\n",
    "model.add(Conv1D(20, 1, activation='relu'))\n",
    "model.add(Dropout(0.2))\n",
    "model.add(Flatten())\n",
    "model.add(Dense(dummy_train_target.shape[1], activation='softmax'))\n",
    "\n",
    "model.compile(loss='categorical_crossentropy', optimizer='adam', metrics=['accuracy'])"
   ]
  },
  {
   "cell_type": "code",
   "execution_count": 25,
   "metadata": {},
   "outputs": [
    {
     "name": "stdout",
     "output_type": "stream",
     "text": [
      "Train on 377318 samples, validate on 94330 samples\n",
      "Epoch 1/50\n",
      "377318/377318 [==============================] - 15s 39us/step - loss: 0.8514 - accuracy: 0.6149 - val_loss: 0.7974 - val_accuracy: 0.6363\n",
      "Epoch 2/50\n",
      "377318/377318 [==============================] - 14s 38us/step - loss: 0.8113 - accuracy: 0.6332 - val_loss: 0.7907 - val_accuracy: 0.6406\n",
      "Epoch 3/50\n",
      "377318/377318 [==============================] - 14s 38us/step - loss: 0.8045 - accuracy: 0.6351 - val_loss: 0.7889 - val_accuracy: 0.6409\n",
      "Epoch 4/50\n",
      "377318/377318 [==============================] - 14s 38us/step - loss: 0.8014 - accuracy: 0.6371 - val_loss: 0.7875 - val_accuracy: 0.6420\n",
      "Epoch 5/50\n",
      "377318/377318 [==============================] - 14s 38us/step - loss: 0.7987 - accuracy: 0.6383 - val_loss: 0.7850 - val_accuracy: 0.6427\n",
      "Epoch 6/50\n",
      "377318/377318 [==============================] - 14s 38us/step - loss: 0.7961 - accuracy: 0.6392 - val_loss: 0.7838 - val_accuracy: 0.6430\n",
      "Epoch 7/50\n",
      "377318/377318 [==============================] - 14s 38us/step - loss: 0.7944 - accuracy: 0.6408 - val_loss: 0.7824 - val_accuracy: 0.6440\n",
      "Epoch 8/50\n",
      "377318/377318 [==============================] - 14s 38us/step - loss: 0.7929 - accuracy: 0.6405 - val_loss: 0.7821 - val_accuracy: 0.6442\n",
      "Epoch 9/50\n",
      "377318/377318 [==============================] - 14s 37us/step - loss: 0.7914 - accuracy: 0.6424 - val_loss: 0.7804 - val_accuracy: 0.6448\n",
      "Epoch 10/50\n",
      "377318/377318 [==============================] - 14s 37us/step - loss: 0.7904 - accuracy: 0.6420 - val_loss: 0.7810 - val_accuracy: 0.6438\n",
      "Epoch 11/50\n",
      "377318/377318 [==============================] - 15s 38us/step - loss: 0.7894 - accuracy: 0.6429 - val_loss: 0.7802 - val_accuracy: 0.6445\n",
      "Epoch 12/50\n",
      "377318/377318 [==============================] - 14s 38us/step - loss: 0.7880 - accuracy: 0.6434 - val_loss: 0.7805 - val_accuracy: 0.6451\n",
      "Epoch 13/50\n",
      "377318/377318 [==============================] - 14s 37us/step - loss: 0.7873 - accuracy: 0.6437 - val_loss: 0.7807 - val_accuracy: 0.6451\n",
      "Epoch 14/50\n",
      "377318/377318 [==============================] - 14s 38us/step - loss: 0.7863 - accuracy: 0.6437 - val_loss: 0.7785 - val_accuracy: 0.6449\n",
      "Epoch 15/50\n",
      "377318/377318 [==============================] - 14s 38us/step - loss: 0.7862 - accuracy: 0.6445 - val_loss: 0.7789 - val_accuracy: 0.6461\n",
      "Epoch 16/50\n",
      "377318/377318 [==============================] - 14s 38us/step - loss: 0.7848 - accuracy: 0.6448 - val_loss: 0.7785 - val_accuracy: 0.6461\n",
      "Epoch 17/50\n",
      "377318/377318 [==============================] - 14s 38us/step - loss: 0.7838 - accuracy: 0.6458 - val_loss: 0.7785 - val_accuracy: 0.6463\n",
      "Epoch 18/50\n",
      "377318/377318 [==============================] - 14s 37us/step - loss: 0.7843 - accuracy: 0.6457 - val_loss: 0.7775 - val_accuracy: 0.6471\n",
      "Epoch 19/50\n",
      "377318/377318 [==============================] - 14s 37us/step - loss: 0.7828 - accuracy: 0.6458 - val_loss: 0.7775 - val_accuracy: 0.6470\n",
      "Epoch 20/50\n",
      "377318/377318 [==============================] - 14s 37us/step - loss: 0.7829 - accuracy: 0.6460 - val_loss: 0.7774 - val_accuracy: 0.6470\n",
      "Epoch 21/50\n",
      "377318/377318 [==============================] - 14s 37us/step - loss: 0.7820 - accuracy: 0.6458 - val_loss: 0.7766 - val_accuracy: 0.6470\n",
      "Epoch 22/50\n",
      "377318/377318 [==============================] - 14s 37us/step - loss: 0.7813 - accuracy: 0.6469 - val_loss: 0.7768 - val_accuracy: 0.6462\n",
      "Epoch 23/50\n",
      "377318/377318 [==============================] - 15s 39us/step - loss: 0.7809 - accuracy: 0.6466 - val_loss: 0.7763 - val_accuracy: 0.6478\n",
      "Epoch 24/50\n",
      "377318/377318 [==============================] - 14s 38us/step - loss: 0.7813 - accuracy: 0.6466 - val_loss: 0.7751 - val_accuracy: 0.6478\n",
      "Epoch 25/50\n",
      "377318/377318 [==============================] - 14s 37us/step - loss: 0.7806 - accuracy: 0.6465 - val_loss: 0.7761 - val_accuracy: 0.6479\n",
      "Epoch 26/50\n",
      "377318/377318 [==============================] - 14s 37us/step - loss: 0.7798 - accuracy: 0.6474 - val_loss: 0.7753 - val_accuracy: 0.6480\n",
      "Epoch 27/50\n",
      "377318/377318 [==============================] - 14s 37us/step - loss: 0.7801 - accuracy: 0.6468 - val_loss: 0.7751 - val_accuracy: 0.6468\n",
      "Epoch 28/50\n",
      "377318/377318 [==============================] - 14s 37us/step - loss: 0.7796 - accuracy: 0.6477 - val_loss: 0.7761 - val_accuracy: 0.6475\n",
      "Epoch 29/50\n",
      "377318/377318 [==============================] - 15s 39us/step - loss: 0.7792 - accuracy: 0.6475 - val_loss: 0.7749 - val_accuracy: 0.6488\n",
      "Epoch 30/50\n",
      "377318/377318 [==============================] - 14s 37us/step - loss: 0.7787 - accuracy: 0.6474 - val_loss: 0.7751 - val_accuracy: 0.6480\n",
      "Epoch 31/50\n",
      "377318/377318 [==============================] - 14s 38us/step - loss: 0.7778 - accuracy: 0.6486 - val_loss: 0.7754 - val_accuracy: 0.6480\n",
      "Epoch 32/50\n",
      "377318/377318 [==============================] - 14s 37us/step - loss: 0.7784 - accuracy: 0.6480 - val_loss: 0.7749 - val_accuracy: 0.6474\n",
      "Epoch 33/50\n",
      "377318/377318 [==============================] - 14s 37us/step - loss: 0.7779 - accuracy: 0.6486 - val_loss: 0.7756 - val_accuracy: 0.6474\n",
      "Epoch 34/50\n",
      "377318/377318 [==============================] - 14s 37us/step - loss: 0.7780 - accuracy: 0.6480 - val_loss: 0.7747 - val_accuracy: 0.6492\n",
      "Epoch 35/50\n",
      "377318/377318 [==============================] - 14s 37us/step - loss: 0.7772 - accuracy: 0.6488 - val_loss: 0.7743 - val_accuracy: 0.6484\n",
      "Epoch 36/50\n",
      "377318/377318 [==============================] - 14s 37us/step - loss: 0.7768 - accuracy: 0.6494 - val_loss: 0.7744 - val_accuracy: 0.6484\n",
      "Epoch 37/50\n",
      "377318/377318 [==============================] - 14s 38us/step - loss: 0.7771 - accuracy: 0.6486 - val_loss: 0.7743 - val_accuracy: 0.6472\n",
      "Epoch 38/50\n",
      "377318/377318 [==============================] - 14s 37us/step - loss: 0.7769 - accuracy: 0.6491 - val_loss: 0.7757 - val_accuracy: 0.6481\n",
      "Epoch 39/50\n",
      "377318/377318 [==============================] - 14s 37us/step - loss: 0.7765 - accuracy: 0.6492 - val_loss: 0.7754 - val_accuracy: 0.6481\n",
      "Epoch 40/50\n",
      "377318/377318 [==============================] - 14s 38us/step - loss: 0.7764 - accuracy: 0.6483 - val_loss: 0.7745 - val_accuracy: 0.6485\n",
      "Epoch 41/50\n",
      "377318/377318 [==============================] - 14s 38us/step - loss: 0.7765 - accuracy: 0.6490 - val_loss: 0.7750 - val_accuracy: 0.6484\n",
      "Epoch 42/50\n",
      "377318/377318 [==============================] - 14s 37us/step - loss: 0.7763 - accuracy: 0.6488 - val_loss: 0.7750 - val_accuracy: 0.6483\n",
      "Epoch 43/50\n",
      "377318/377318 [==============================] - 14s 37us/step - loss: 0.7761 - accuracy: 0.6490 - val_loss: 0.7745 - val_accuracy: 0.6487\n",
      "Epoch 44/50\n",
      "377318/377318 [==============================] - 14s 38us/step - loss: 0.7757 - accuracy: 0.6493 - val_loss: 0.7747 - val_accuracy: 0.6486\n",
      "Epoch 45/50\n",
      "377318/377318 [==============================] - 14s 37us/step - loss: 0.7754 - accuracy: 0.6496 - val_loss: 0.7749 - val_accuracy: 0.6487\n",
      "Epoch 46/50\n",
      "377318/377318 [==============================] - 15s 38us/step - loss: 0.7752 - accuracy: 0.6491 - val_loss: 0.7745 - val_accuracy: 0.6487\n",
      "Epoch 47/50\n",
      "377318/377318 [==============================] - 14s 38us/step - loss: 0.7752 - accuracy: 0.6493 - val_loss: 0.7741 - val_accuracy: 0.6485\n",
      "Epoch 48/50\n",
      "377318/377318 [==============================] - 14s 38us/step - loss: 0.7752 - accuracy: 0.6498 - val_loss: 0.7736 - val_accuracy: 0.6494\n",
      "Epoch 49/50\n",
      "377318/377318 [==============================] - 14s 37us/step - loss: 0.7750 - accuracy: 0.6499 - val_loss: 0.7740 - val_accuracy: 0.6486\n",
      "Epoch 50/50\n",
      "377318/377318 [==============================] - 15s 40us/step - loss: 0.7744 - accuracy: 0.6496 - val_loss: 0.7742 - val_accuracy: 0.6488\n"
     ]
    }
   ],
   "source": [
    "hist=model.fit(train_data, dummy_train_target, epochs=50, batch_size=200, verbose=1, validation_data=(test_data,dummy_test_target))"
   ]
  },
  {
   "cell_type": "code",
   "execution_count": 26,
   "metadata": {},
   "outputs": [
    {
     "name": "stdout",
     "output_type": "stream",
     "text": [
      "377318/377318 [==============================] - 9s 23us/step\n",
      "94330/94330 [==============================] - 2s 23us/step\n",
      "Train Accuracy= 0.659247636795044\n",
      "Test Accuracy= 0.648796796798706\n"
     ]
    }
   ],
   "source": [
    "_, accuracy = model.evaluate(train_data, dummy_train_target)\n",
    "_, test_accuracy = model.evaluate(test_data, dummy_test_target)\n",
    "\n",
    "print('Train Accuracy=',accuracy)\n",
    "print('Test Accuracy=',test_accuracy)"
   ]
  },
  {
   "cell_type": "code",
   "execution_count": 27,
   "metadata": {},
   "outputs": [
    {
     "data": {
      "image/png": "[encoded data removed]",
      "text/plain": [
       "<Figure size 432x288 with 1 Axes>"
      ]
     },
     "metadata": {
      "needs_background": "light"
     },
     "output_type": "display_data"
    }
   ],
   "source": [
    "epoch_num = np.arange(0, 50)\n",
    "plt.figure()\n",
    "plt.plot(epoch_num, hist.history[\"loss\"], label=\"train_loss\")\n",
    "plt.plot(epoch_num, hist.history[\"val_loss\"], label=\"val_loss\")\n",
    "plt.plot(epoch_num, hist.history[\"accuracy\"], label=\"train_acc\")\n",
    "plt.plot(epoch_num, hist.history[\"val_accuracy\"], label=\"val_acc\")\n",
    "plt.title(\"Training Loss and Accuracy\")\n",
    "plt.xlabel(\"Epoch #\")\n",
    "plt.ylabel(\"Loss/Accuracy\")\n",
    "plt.legend()\n",
    "plt.savefig('Lung Cancer CNN Epoch Plot')"
   ]
  },
  {
   "cell_type": "markdown",
   "metadata": {},
   "source": [
    "Training set and Test Set Performance"
   ]
  },
  {
   "cell_type": "code",
   "execution_count": 28,
   "metadata": {},
   "outputs": [
    {
     "name": "stdout",
     "output_type": "stream",
     "text": [
      "377318/377318 [==============================] - 8s 20us/step\n",
      "94330/94330 [==============================] - 2s 19us/step\n"
     ]
    }
   ],
   "source": [
    "y_hat_train_class = model.predict_classes(train_data, verbose=1)\n",
    "y_hat_test_class = model.predict_classes(test_data, verbose=1)"
   ]
  },
  {
   "cell_type": "code",
   "execution_count": 29,
   "metadata": {},
   "outputs": [
    {
     "name": "stdout",
     "output_type": "stream",
     "text": [
      "Training Set Performance\n",
      "[[81719 25174 18811]\n",
      " [39717 80883  5336]\n",
      " [32823  6711 86144]]\n",
      "              precision    recall  f1-score   support\n",
      "\n",
      "    0.5-2yrs       0.53      0.65      0.58    125704\n",
      "   <=6months       0.72      0.64      0.68    125936\n",
      "       >2yrs       0.78      0.69      0.73    125678\n",
      "\n",
      "    accuracy                           0.66    377318\n",
      "   macro avg       0.68      0.66      0.66    377318\n",
      "weighted avg       0.68      0.66      0.66    377318\n",
      "\n"
     ]
    }
   ],
   "source": [
    "print('Training Set Performance')\n",
    "conf_matrix_ann = confusion_matrix(encoder.inverse_transform(encoded_train_target), encoder.inverse_transform(y_hat_train_class))\n",
    "print(conf_matrix_ann)\n",
    "\n",
    "cr_ann = classification_report(encoder.inverse_transform(encoded_train_target), encoder.inverse_transform(y_hat_train_class))\n",
    "print(cr_ann)"
   ]
  },
  {
   "cell_type": "code",
   "execution_count": 30,
   "metadata": {},
   "outputs": [
    {
     "name": "stdout",
     "output_type": "stream",
     "text": [
      "Test Set Performance\n",
      "[[20191  6387  4934]\n",
      " [10010 19772  1498]\n",
      " [ 8583  1717 21238]]\n",
      "              precision    recall  f1-score   support\n",
      "\n",
      "    0.5-2yrs       0.52      0.64      0.57     31512\n",
      "   <=6months       0.71      0.63      0.67     31280\n",
      "       >2yrs       0.77      0.67      0.72     31538\n",
      "\n",
      "    accuracy                           0.65     94330\n",
      "   macro avg       0.67      0.65      0.65     94330\n",
      "weighted avg       0.67      0.65      0.65     94330\n",
      "\n"
     ]
    }
   ],
   "source": [
    "print('Test Set Performance')\n",
    "conf_matrix_ann = confusion_matrix(encoder.inverse_transform(encoded_test_target), encoder.inverse_transform(y_hat_test_class))\n",
    "print(conf_matrix_ann)\n",
    "\n",
    "cr_ann = classification_report(encoder.inverse_transform(encoded_test_target), encoder.inverse_transform(y_hat_test_class))\n",
    "print(cr_ann)"
   ]
  },
  {
   "cell_type": "code",
   "execution_count": 31,
   "metadata": {},
   "outputs": [],
   "source": [
    "seed(100)\n",
    "tensorflow.random.set_seed(100)"
   ]
  },
  {
   "cell_type": "markdown",
   "metadata": {},
   "source": [
    "Defining the structure of the RNN with 2 hidden layers with [50,20] neurons each and ReLU activation function on the hidden layers and softmax activation on the output layer. The output layer has three neuron in line with the number of classes for prediction. 20% Dropout layer is used after each hidden layer.\n",
    "\n",
    "Loss Function- Categorical Crossentropy\n",
    "\n",
    "Optimizer- ADAM\n",
    "\n",
    "Observed Metrics- Accuracy\n",
    "\n",
    "An initial fit of the model is developed over a large number of epochs to determine point of overfitting of the model."
   ]
  },
  {
   "cell_type": "code",
   "execution_count": 32,
   "metadata": {},
   "outputs": [],
   "source": [
    "#RNN\n",
    "model=Sequential()\n",
    "\n",
    "model.add(LSTM(50, input_shape=train_data.shape[1:], return_sequences=True,activation='relu'))\n",
    "model.add(Dropout(0.2))\n",
    "model.add(LSTM(20, return_sequences=False,activation='relu'))\n",
    "model.add(Dropout(0.2))\n",
    "model.add(Dense(dummy_train_target.shape[1], activation='softmax'))\n",
    "    \n",
    "# model.add(LSTM(64, input_shape=train_data.shape[1:], return_sequences=True,activation='relu'))\n",
    "# model.add(Dropout(0.2))\n",
    "# model.add(LSTM(32, return_sequences=False,activation='relu'))\n",
    "# model.add(Dropout(0.1))\n",
    "# model.add(Dense(dummy_train_target.shape[1], activation='softmax'))\n",
    "\n",
    "model.compile(loss='categorical_crossentropy', optimizer='adam', metrics=['accuracy'])"
   ]
  },
  {
   "cell_type": "code",
   "execution_count": 33,
   "metadata": {},
   "outputs": [
    {
     "name": "stdout",
     "output_type": "stream",
     "text": [
      "Train on 377318 samples, validate on 94330 samples\n",
      "Epoch 1/50\n",
      "377318/377318 [==============================] - 23s 62us/step - loss: 0.8221 - accuracy: 0.6265 - val_loss: 0.7907 - val_accuracy: 0.6412\n",
      "Epoch 2/50\n",
      "377318/377318 [==============================] - 23s 61us/step - loss: 0.7991 - accuracy: 0.6388 - val_loss: 0.7872 - val_accuracy: 0.6434\n",
      "Epoch 3/50\n",
      "377318/377318 [==============================] - 23s 61us/step - loss: 0.7908 - accuracy: 0.6429 - val_loss: 0.7808 - val_accuracy: 0.6454\n",
      "Epoch 4/50\n",
      "377318/377318 [==============================] - 23s 61us/step - loss: 0.7847 - accuracy: 0.6458 - val_loss: 0.7779 - val_accuracy: 0.6472\n",
      "Epoch 5/50\n",
      "377318/377318 [==============================] - 25s 67us/step - loss: 0.7796 - accuracy: 0.6486 - val_loss: 0.7773 - val_accuracy: 0.6478\n",
      "Epoch 6/50\n",
      "377318/377318 [==============================] - 23s 61us/step - loss: 0.7755 - accuracy: 0.6514 - val_loss: 0.7745 - val_accuracy: 0.6497\n",
      "Epoch 7/50\n",
      "377318/377318 [==============================] - 25s 67us/step - loss: 0.7706 - accuracy: 0.6537 - val_loss: 0.7732 - val_accuracy: 0.6504\n",
      "Epoch 8/50\n",
      "377318/377318 [==============================] - 23s 62us/step - loss: 0.7667 - accuracy: 0.6560 - val_loss: 0.7721 - val_accuracy: 0.6521\n",
      "Epoch 9/50\n",
      "377318/377318 [==============================] - 25s 65us/step - loss: 0.7633 - accuracy: 0.6573 - val_loss: 0.7725 - val_accuracy: 0.6509\n",
      "Epoch 10/50\n",
      "377318/377318 [==============================] - 24s 64us/step - loss: 0.7602 - accuracy: 0.6593 - val_loss: 0.7707 - val_accuracy: 0.6529\n",
      "Epoch 11/50\n",
      "377318/377318 [==============================] - 25s 66us/step - loss: 0.7570 - accuracy: 0.6607 - val_loss: 0.7708 - val_accuracy: 0.6528\n",
      "Epoch 12/50\n",
      "377318/377318 [==============================] - 25s 66us/step - loss: 0.7548 - accuracy: 0.6622 - val_loss: 0.7686 - val_accuracy: 0.6531\n",
      "Epoch 13/50\n",
      "377318/377318 [==============================] - 24s 63us/step - loss: 0.7527 - accuracy: 0.6634 - val_loss: 0.7683 - val_accuracy: 0.6542\n",
      "Epoch 14/50\n",
      "377318/377318 [==============================] - 25s 66us/step - loss: 0.7504 - accuracy: 0.6645 - val_loss: 0.7678 - val_accuracy: 0.6562\n",
      "Epoch 15/50\n",
      "377318/377318 [==============================] - 25s 65us/step - loss: 0.7479 - accuracy: 0.6661 - val_loss: 0.7670 - val_accuracy: 0.6555\n",
      "Epoch 16/50\n",
      "377318/377318 [==============================] - 25s 66us/step - loss: 0.7455 - accuracy: 0.6671 - val_loss: 0.7661 - val_accuracy: 0.6562\n",
      "Epoch 17/50\n",
      "377318/377318 [==============================] - 25s 66us/step - loss: 0.7429 - accuracy: 0.6688 - val_loss: 0.7650 - val_accuracy: 0.6572\n",
      "Epoch 18/50\n",
      "377318/377318 [==============================] - 25s 66us/step - loss: 0.7425 - accuracy: 0.6688 - val_loss: 0.7660 - val_accuracy: 0.6560\n",
      "Epoch 19/50\n",
      "377318/377318 [==============================] - 25s 66us/step - loss: 0.7399 - accuracy: 0.6703 - val_loss: 0.7654 - val_accuracy: 0.6573\n",
      "Epoch 20/50\n",
      "377318/377318 [==============================] - 25s 67us/step - loss: 0.7393 - accuracy: 0.6710 - val_loss: 0.7679 - val_accuracy: 0.6576\n",
      "Epoch 21/50\n",
      "377318/377318 [==============================] - 25s 66us/step - loss: 0.7369 - accuracy: 0.6723 - val_loss: 0.7657 - val_accuracy: 0.6585\n",
      "Epoch 22/50\n",
      "377318/377318 [==============================] - 25s 65us/step - loss: 0.7358 - accuracy: 0.6725 - val_loss: 0.7650 - val_accuracy: 0.6586\n",
      "Epoch 23/50\n",
      "377318/377318 [==============================] - 25s 65us/step - loss: 0.7349 - accuracy: 0.6731 - val_loss: 0.7644 - val_accuracy: 0.6579\n",
      "Epoch 24/50\n",
      "377318/377318 [==============================] - 25s 66us/step - loss: 0.7325 - accuracy: 0.6742 - val_loss: 0.7667 - val_accuracy: 0.6578\n",
      "Epoch 25/50\n",
      "377318/377318 [==============================] - 25s 66us/step - loss: 0.7321 - accuracy: 0.6746 - val_loss: 0.7662 - val_accuracy: 0.6590\n",
      "Epoch 26/50\n",
      "377318/377318 [==============================] - 25s 66us/step - loss: 0.7308 - accuracy: 0.6747 - val_loss: 0.7655 - val_accuracy: 0.6597\n",
      "Epoch 27/50\n",
      "377318/377318 [==============================] - 25s 67us/step - loss: 0.7286 - accuracy: 0.6760 - val_loss: 0.7684 - val_accuracy: 0.6593\n",
      "Epoch 28/50\n",
      "377318/377318 [==============================] - 25s 67us/step - loss: 0.7272 - accuracy: 0.6775 - val_loss: 0.7659 - val_accuracy: 0.6606\n",
      "Epoch 29/50\n",
      "377318/377318 [==============================] - 25s 67us/step - loss: 0.7276 - accuracy: 0.6773 - val_loss: 0.7648 - val_accuracy: 0.6605\n",
      "Epoch 30/50\n",
      "377318/377318 [==============================] - 25s 68us/step - loss: 0.7256 - accuracy: 0.6781 - val_loss: 0.7645 - val_accuracy: 0.6611\n",
      "Epoch 31/50\n",
      "377318/377318 [==============================] - 26s 68us/step - loss: 0.7255 - accuracy: 0.6781 - val_loss: 0.7659 - val_accuracy: 0.6597\n",
      "Epoch 32/50\n",
      "377318/377318 [==============================] - 25s 66us/step - loss: 0.7243 - accuracy: 0.6789 - val_loss: 0.7652 - val_accuracy: 0.6610\n",
      "Epoch 33/50\n",
      "377318/377318 [==============================] - 25s 67us/step - loss: 0.7231 - accuracy: 0.6793 - val_loss: 0.7677 - val_accuracy: 0.6604\n",
      "Epoch 34/50\n",
      "377318/377318 [==============================] - 25s 67us/step - loss: 0.7223 - accuracy: 0.6790 - val_loss: 0.7650 - val_accuracy: 0.6609\n",
      "Epoch 35/50\n",
      "377318/377318 [==============================] - 26s 70us/step - loss: 0.7207 - accuracy: 0.6805 - val_loss: 0.7673 - val_accuracy: 0.6614\n",
      "Epoch 36/50\n",
      "377318/377318 [==============================] - 25s 66us/step - loss: 0.7205 - accuracy: 0.6806 - val_loss: 0.7682 - val_accuracy: 0.6621\n",
      "Epoch 37/50\n",
      "377318/377318 [==============================] - 26s 68us/step - loss: 0.7196 - accuracy: 0.6817 - val_loss: 0.7668 - val_accuracy: 0.6621\n",
      "Epoch 38/50\n",
      "377318/377318 [==============================] - 25s 66us/step - loss: 0.7197 - accuracy: 0.6811 - val_loss: 0.7647 - val_accuracy: 0.6620\n",
      "Epoch 39/50\n",
      "377318/377318 [==============================] - 25s 67us/step - loss: 0.7178 - accuracy: 0.6816 - val_loss: 0.7600 - val_accuracy: 0.6632\n",
      "Epoch 40/50\n",
      "377318/377318 [==============================] - 25s 67us/step - loss: 0.7173 - accuracy: 0.6828 - val_loss: 0.7714 - val_accuracy: 0.6621\n",
      "Epoch 41/50\n",
      "377318/377318 [==============================] - 25s 67us/step - loss: 0.7173 - accuracy: 0.6829 - val_loss: 0.7667 - val_accuracy: 0.6628\n",
      "Epoch 42/50\n",
      "377318/377318 [==============================] - 25s 67us/step - loss: 0.7154 - accuracy: 0.6837 - val_loss: 0.7633 - val_accuracy: 0.6641\n",
      "Epoch 43/50\n",
      "377318/377318 [==============================] - 25s 66us/step - loss: 0.7148 - accuracy: 0.6849 - val_loss: 0.7663 - val_accuracy: 0.6638\n",
      "Epoch 44/50\n",
      "377318/377318 [==============================] - 25s 67us/step - loss: 0.7150 - accuracy: 0.6845 - val_loss: 0.7669 - val_accuracy: 0.6631\n",
      "Epoch 45/50\n",
      "377318/377318 [==============================] - 25s 66us/step - loss: 0.7146 - accuracy: 0.6844 - val_loss: 0.7660 - val_accuracy: 0.6628\n",
      "Epoch 46/50\n",
      "377318/377318 [==============================] - 25s 67us/step - loss: 0.7127 - accuracy: 0.6854 - val_loss: 0.7631 - val_accuracy: 0.6635\n",
      "Epoch 47/50\n",
      "377318/377318 [==============================] - 25s 67us/step - loss: 0.7129 - accuracy: 0.6854 - val_loss: 0.7657 - val_accuracy: 0.6628\n",
      "Epoch 48/50\n",
      "377318/377318 [==============================] - 26s 68us/step - loss: 0.7121 - accuracy: 0.6856 - val_loss: 0.7663 - val_accuracy: 0.6637\n",
      "Epoch 49/50\n",
      "377318/377318 [==============================] - 25s 66us/step - loss: 0.7110 - accuracy: 0.6861 - val_loss: 0.7662 - val_accuracy: 0.6652\n",
      "Epoch 50/50\n",
      "377318/377318 [==============================] - 25s 67us/step - loss: 0.7114 - accuracy: 0.6865 - val_loss: 0.7625 - val_accuracy: 0.6641\n"
     ]
    }
   ],
   "source": [
    "hist=model.fit(train_data, dummy_train_target, epochs=50, batch_size=128, verbose=1, validation_data=(test_data,dummy_test_target))"
   ]
  },
  {
   "cell_type": "code",
   "execution_count": 34,
   "metadata": {},
   "outputs": [
    {
     "name": "stdout",
     "output_type": "stream",
     "text": [
      "377318/377318 [==============================] - 16s 43us/step\n",
      "94330/94330 [==============================] - 4s 40us/step\n",
      "Train Accuracy= 0.7058210968971252\n",
      "Test Accuracy= 0.6640623211860657\n"
     ]
    }
   ],
   "source": [
    "_, accuracy = model.evaluate(train_data, dummy_train_target)\n",
    "_, test_accuracy = model.evaluate(test_data, dummy_test_target)\n",
    "\n",
    "print('Train Accuracy=',accuracy)\n",
    "print('Test Accuracy=',test_accuracy)"
   ]
  },
  {
   "cell_type": "code",
   "execution_count": 35,
   "metadata": {},
   "outputs": [
    {
     "data": {
      "image/png": "[encoded data removed]",
      "text/plain": [
       "<Figure size 432x288 with 1 Axes>"
      ]
     },
     "metadata": {
      "needs_background": "light"
     },
     "output_type": "display_data"
    }
   ],
   "source": [
    "epoch_num = np.arange(0, 50)\n",
    "plt.figure()\n",
    "plt.plot(epoch_num, hist.history[\"loss\"], label=\"train_loss\")\n",
    "plt.plot(epoch_num, hist.history[\"val_loss\"], label=\"val_loss\")\n",
    "plt.plot(epoch_num, hist.history[\"accuracy\"], label=\"train_acc\")\n",
    "plt.plot(epoch_num, hist.history[\"val_accuracy\"], label=\"val_acc\")\n",
    "plt.title(\"Training Loss and Accuracy\")\n",
    "plt.xlabel(\"Epoch #\")\n",
    "plt.ylabel(\"Loss/Accuracy\")\n",
    "plt.legend()\n",
    "plt.savefig('Lung Cancer RNN Epoch Plot')"
   ]
  },
  {
   "cell_type": "markdown",
   "metadata": {},
   "source": [
    "Training Set and Test Performance."
   ]
  },
  {
   "cell_type": "code",
   "execution_count": 36,
   "metadata": {},
   "outputs": [
    {
     "name": "stdout",
     "output_type": "stream",
     "text": [
      "377318/377318 [==============================] - 13s 34us/step\n",
      "94330/94330 [==============================] - 3s 33us/step\n"
     ]
    }
   ],
   "source": [
    "y_hat_train_class = model.predict_classes(train_data, verbose=1)\n",
    "y_hat_test_class = model.predict_classes(test_data, verbose=1)"
   ]
  },
  {
   "cell_type": "code",
   "execution_count": null,
   "metadata": {},
   "outputs": [],
   "source": [
    "print('Training Set Performance')\n",
    "conf_matrix_ann = confusion_matrix(encoder.inverse_transform(encoded_train_target), encoder.inverse_transform(y_hat_train_class))\n",
    "print(conf_matrix_ann)\n",
    "\n",
    "cr_ann = classification_report(encoder.inverse_transform(encoded_train_target), encoder.inverse_transform(y_hat_train_class))\n",
    "print(cr_ann)"
   ]
  },
  {
   "cell_type": "code",
   "execution_count": 37,
   "metadata": {},
   "outputs": [
    {
     "name": "stdout",
     "output_type": "stream",
     "text": [
      "Test Set Performance\n",
      "[[19040  6557  5915]\n",
      " [ 9010 20012  2258]\n",
      " [ 6283  1666 23589]]\n",
      "              precision    recall  f1-score   support\n",
      "\n",
      "    0.5-2yrs       0.55      0.60      0.58     31512\n",
      "   <=6months       0.71      0.64      0.67     31280\n",
      "       >2yrs       0.74      0.75      0.75     31538\n",
      "\n",
      "    accuracy                           0.66     94330\n",
      "   macro avg       0.67      0.66      0.67     94330\n",
      "weighted avg       0.67      0.66      0.67     94330\n",
      "\n"
     ]
    }
   ],
   "source": [
    "print('Test Set Performance')\n",
    "conf_matrix_ann = confusion_matrix(encoder.inverse_transform(encoded_test_target), encoder.inverse_transform(y_hat_test_class))\n",
    "print(conf_matrix_ann)\n",
    "\n",
    "cr_ann = classification_report(encoder.inverse_transform(encoded_test_target), encoder.inverse_transform(y_hat_test_class))\n",
    "print(cr_ann)"
   ]
  },
  {
   "cell_type": "code",
   "execution_count": null,
   "metadata": {},
   "outputs": [],
   "source": []
  }
 ],
 "metadata": {
  "kernelspec": {
   "display_name": "Python 3",
   "language": "python",
   "name": "python3"
  },
  "language_info": {
   "codemirror_mode": {
    "name": "ipython",
    "version": 3
   },
   "file_extension": ".py",
   "mimetype": "text/x-python",
   "name": "python",
   "nbconvert_exporter": "python",
   "pygments_lexer": "ipython3",
   "version": "3.6.10"
  }
 },
 "nbformat": 4,
 "nbformat_minor": 2
}
